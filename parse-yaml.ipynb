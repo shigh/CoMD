{
 "metadata": {
  "name": "",
  "signature": "sha256:6b2e84fd9229f892137c9f9c03a208e08da9d6ee79a12738a38d539b8c00e8f4"
 },
 "nbformat": 3,
 "nbformat_minor": 0,
 "worksheets": [
  {
   "cells": [
    {
     "cell_type": "code",
     "collapsed": false,
     "input": [
      "%matplotlib inline"
     ],
     "language": "python",
     "metadata": {},
     "outputs": [],
     "prompt_number": 1
    },
    {
     "cell_type": "code",
     "collapsed": false,
     "input": [
      "import numpy as np\n",
      "import pandas as pd\n",
      "import re"
     ],
     "language": "python",
     "metadata": {},
     "outputs": [],
     "prompt_number": 2
    },
    {
     "cell_type": "code",
     "collapsed": false,
     "input": [
      "res_file = r\"./CoMD-mpi.2015:04:13-09:23:24.yaml\"\n",
      "with open(res_file) as f:\n",
      "    res = f.read()"
     ],
     "language": "python",
     "metadata": {},
     "outputs": [],
     "prompt_number": 3
    },
    {
     "cell_type": "code",
     "collapsed": false,
     "input": [
      "p_cmd = \\\n",
      "r\"\"\"Command Line Parameters:\n",
      "  doeam: (?P<doeam>\\d)\n",
      "  potDir: pots\n",
      "  potName: Cu_u6.eam\n",
      "  potType: funcfl\n",
      "  nx: (?P<nx>\\d+)\n",
      "  ny: (?P<ny>\\d+)\n",
      "  nz: (?P<nz>\\d+)\n",
      "  xproc: (?P<xproc>\\d+)\n",
      "  yproc: (?P<yproc>\\d+)\n",
      "  zproc: (?P<zproc>\\d+)\n",
      "  Lattice constant: -1 Angstroms\n",
      "  nSteps: (?P<nsteps>\\d+)\n",
      "  printRate: (?P<printRate>\\d+)\n",
      "  Time step: (?P<timestep>\\d+) fs\n",
      "  Initial Temperature: 600 K\n",
      "  Initial Delta: 0 Angstroms\n",
      "\"\"\"\n",
      "r = re.search(p_cmd, res)\n",
      "r.groupdict()"
     ],
     "language": "python",
     "metadata": {},
     "outputs": [
      {
       "metadata": {},
       "output_type": "pyout",
       "prompt_number": 4,
       "text": [
        "{'doeam': '1',\n",
        " 'nsteps': '100',\n",
        " 'nx': '40',\n",
        " 'ny': '40',\n",
        " 'nz': '40',\n",
        " 'printRate': '10',\n",
        " 'timestep': '1',\n",
        " 'xproc': '1',\n",
        " 'yproc': '1',\n",
        " 'zproc': '1'}"
       ]
      }
     ],
     "prompt_number": 4
    },
    {
     "cell_type": "code",
     "collapsed": false,
     "input": [
      "p_sim_data = \\\n",
      "r\"\"\"Simulation data: \n",
      "  Total atoms        : (?P<totalatoms>\\d+)\n",
      "\"\"\"\n",
      "r = re.search(p_sim_data, res)\n",
      "r.groupdict()"
     ],
     "language": "python",
     "metadata": {},
     "outputs": [
      {
       "metadata": {},
       "output_type": "pyout",
       "prompt_number": 5,
       "text": [
        "{'totalatoms': '256000'}"
       ]
      }
     ],
     "prompt_number": 5
    },
    {
     "cell_type": "code",
     "collapsed": false,
     "input": [
      "p_decomp_data = \\\n",
      "r\"\"\"Decomposition data:.*\n",
      "  Processors         :\\s*(?P<px>\\d+),\\s*(?P<py>\\d+),\\s*(?P<pz>\\d+).*\n",
      "  Local boxes        :\\s*(?P<lbx>\\d+),\\s*(?P<lby>\\d+),\\s*(?P<lbz>\\d+).*\n",
      "\"\"\"\n",
      "r = re.search(p_decomp_data, res)\n",
      "r.groupdict()"
     ],
     "language": "python",
     "metadata": {},
     "outputs": [
      {
       "metadata": {},
       "output_type": "pyout",
       "prompt_number": 6,
       "text": [
        "{'lbx': '29', 'lby': '29', 'lbz': '29', 'px': '1', 'py': '1', 'pz': '1'}"
       ]
      }
     ],
     "prompt_number": 6
    },
    {
     "cell_type": "code",
     "collapsed": false,
     "input": [
      "p_mem_data = \\\n",
      "r\"\"\"Memory data:.*\n",
      "  Intrinsic atom footprint = \\s*(?P<intrinsatomfp>\\d+)\\s*B/atom\\s*\n",
      "  Total atom footprint     =(?P<totatomfp>.+) MB \\((?P<totatomfpn>.+)MB/node\\)\n",
      "  Link cell atom footprint =(?P<linkcellatomfp>.+) MB/node\\s*\n",
      "  Link cell atom footprint =(?P<linkcellatomfphalo>.+) MB/node.*\n",
      "\"\"\"\n",
      "r = re.search(p_mem_data, res)\n",
      "r.groupdict()"
     ],
     "language": "python",
     "metadata": {},
     "outputs": [
      {
       "metadata": {},
       "output_type": "pyout",
       "prompt_number": 7,
       "text": [
        "{'intrinsatomfp': '88',\n",
        " 'linkcellatomfp': ' 130.996',\n",
        " 'linkcellatomfphalo': ' 160.010',\n",
        " 'totatomfp': '  21.484',\n",
        " 'totatomfpn': ' 21.48 '}"
       ]
      }
     ],
     "prompt_number": 7
    },
    {
     "cell_type": "code",
     "collapsed": false,
     "input": [
      "p_perf_res = \\\n",
      "r\"\"\"Performance Results:\n",
      "  TotalRanks: (?P<totalranks>\\d+)\n",
      "\"\"\"\n",
      "r = re.search(p_perf_res, res)\n",
      "r.groupdict()"
     ],
     "language": "python",
     "metadata": {},
     "outputs": [
      {
       "metadata": {},
       "output_type": "pyout",
       "prompt_number": 8,
       "text": [
        "{'totalranks': '1'}"
       ]
      }
     ],
     "prompt_number": 8
    },
    {
     "cell_type": "code",
     "collapsed": false,
     "input": [
      "p_r0_res = \\\n",
      "r\"\"\"Timer: (?P<function>.+)\n",
      "    CallCount:  (?P<callcount>\\d+)\n",
      "    AvgPerCall: (?P<avgpercall>.+)\n",
      "    Total:      (?P<total>.+)\n",
      "    PercentLoop:(?P<percentloop>.+)\n",
      "\"\"\"\n",
      "r = re.finditer(p_r0_res, res)\n",
      "for i in r:\n",
      "    print i.group(0)"
     ],
     "language": "python",
     "metadata": {},
     "outputs": [
      {
       "output_type": "stream",
       "stream": "stdout",
       "text": [
        "Timer: total\n",
        "    CallCount:  1\n",
        "    AvgPerCall: 155.4007\n",
        "    Total:      155.4007\n",
        "    PercentLoop:   101.10\n",
        "\n",
        "Timer: loop\n",
        "    CallCount:  1\n",
        "    AvgPerCall: 153.7119\n",
        "    Total:      153.7119\n",
        "    PercentLoop:   100.00\n",
        "\n",
        "Timer: timestep\n",
        "    CallCount:  10\n",
        "    AvgPerCall:  15.3711\n",
        "    Total:      153.7114\n",
        "    PercentLoop:   100.00\n",
        "\n",
        "Timer:   position\n",
        "    CallCount:  100\n",
        "    AvgPerCall:   0.0045\n",
        "    Total:        0.4484\n",
        "    PercentLoop:     0.29\n",
        "\n",
        "Timer:   velocity\n",
        "    CallCount:  200\n",
        "    AvgPerCall:   0.0040\n",
        "    Total:        0.8042\n",
        "    PercentLoop:     0.52\n",
        "\n",
        "Timer:   redistribute\n",
        "    CallCount:  101\n",
        "    AvgPerCall:   0.0377\n",
        "    Total:        3.8116\n",
        "    PercentLoop:     2.48\n",
        "\n",
        "Timer:     atomHalo\n",
        "    CallCount:  101\n",
        "    AvgPerCall:   0.0101\n",
        "    Total:        1.0238\n",
        "    PercentLoop:     0.67\n",
        "\n",
        "Timer:   force\n",
        "    CallCount:  101\n",
        "    AvgPerCall:   1.4858\n",
        "    Total:      150.0703\n",
        "    PercentLoop:    97.63\n",
        "\n",
        "Timer:     eamHalo\n",
        "    CallCount:  101\n",
        "    AvgPerCall:   0.0009\n",
        "    Total:        0.0924\n",
        "    PercentLoop:     0.06\n",
        "\n",
        "Timer: commHalo\n",
        "    CallCount:  606\n",
        "    AvgPerCall:   0.0003\n",
        "    Total:        0.1894\n",
        "    PercentLoop:     0.12\n",
        "\n",
        "Timer: commReduce\n",
        "    CallCount:  39\n",
        "    AvgPerCall:   0.0000\n",
        "    Total:        0.0001\n",
        "    PercentLoop:     0.00\n",
        "\n"
       ]
      }
     ],
     "prompt_number": 9
    },
    {
     "cell_type": "code",
     "collapsed": false,
     "input": [
      "p_all_ranks_res = \\\n",
      "r\"\"\"  Timer: (?P<function>.+)\n",
      "    MinRank: (?P<minrank>\\d+)\n",
      "    MinTime:  (?P<mintime>.+)\n",
      "    MaxRank: (?P<maxrank>\\d+)\n",
      "    MaxTime:  (?P<maxtime>.+)\n",
      "    AvgTime:  (?P<avgtime>.+)\n",
      "    StdevTime:   (?P<stddevtime>.+)\n",
      "\"\"\"\n",
      "r = re.finditer(p_all_ranks_res, res)\n",
      "for i in r:\n",
      "    print i.group(0)"
     ],
     "language": "python",
     "metadata": {},
     "outputs": [
      {
       "output_type": "stream",
       "stream": "stdout",
       "text": [
        "  Timer:   position\n",
        "    MinRank: 0\n",
        "    MinTime:   0.4484\n",
        "    MaxRank: 0\n",
        "    MaxTime:   0.4484\n",
        "    AvgTime:   0.4484\n",
        "    StdevTime:   0.0000\n",
        "\n",
        "  Timer:   velocity\n",
        "    MinRank: 0\n",
        "    MinTime:   0.8042\n",
        "    MaxRank: 0\n",
        "    MaxTime:   0.8042\n",
        "    AvgTime:   0.8042\n",
        "    StdevTime:   0.0000\n",
        "\n",
        "  Timer:   redistribute\n",
        "    MinRank: 0\n",
        "    MinTime:   3.8116\n",
        "    MaxRank: 0\n",
        "    MaxTime:   3.8116\n",
        "    AvgTime:   3.8116\n",
        "    StdevTime:   0.0000\n",
        "\n",
        "  Timer:     atomHalo\n",
        "    MinRank: 0\n",
        "    MinTime:   1.0238\n",
        "    MaxRank: 0\n",
        "    MaxTime:   1.0238\n",
        "    AvgTime:   1.0238\n",
        "    StdevTime:   0.0000\n",
        "\n",
        "  Timer:     eamHalo\n",
        "    MinRank: 0\n",
        "    MinTime:   0.0924\n",
        "    MaxRank: 0\n",
        "    MaxTime:   0.0924\n",
        "    AvgTime:   0.0924\n",
        "    StdevTime:   0.0000\n",
        "\n",
        "  Timer: commHalo\n",
        "    MinRank: 0\n",
        "    MinTime:   0.1894\n",
        "    MaxRank: 0\n",
        "    MaxTime:   0.1894\n",
        "    AvgTime:   0.1894\n",
        "    StdevTime:   0.0000\n",
        "\n",
        "  Timer: commReduce\n",
        "    MinRank: 0\n",
        "    MinTime:   0.0001\n",
        "    MaxRank: 0\n",
        "    MaxTime:   0.0001\n",
        "    AvgTime:   0.0001\n",
        "    StdevTime:   0.0000\n",
        "\n"
       ]
      }
     ],
     "prompt_number": 10
    },
    {
     "cell_type": "code",
     "collapsed": false,
     "input": [],
     "language": "python",
     "metadata": {},
     "outputs": [],
     "prompt_number": 10
    }
   ],
   "metadata": {}
  }
 ]
}
{
 "metadata": {
  "name": "",
  "signature": "sha256:cb291b03cbf6ce1f1d9580439b07095a1af76c4f968ffea5583fe903337b945f"
 },
 "nbformat": 3,
 "nbformat_minor": 0,
 "worksheets": [
  {
   "cells": [
    {
     "cell_type": "code",
     "collapsed": false,
     "input": [
      "%matplotlib inline"
     ],
     "language": "python",
     "metadata": {},
     "outputs": [],
     "prompt_number": 1
    },
    {
     "cell_type": "code",
     "collapsed": false,
     "input": [
      "import numpy as np\n",
      "import matplotlib.pyplot as plt\n",
      "import pandas as pd\n",
      "import re\n",
      "from rp import ResultsParser, results_df\n",
      "from glob import glob"
     ],
     "language": "python",
     "metadata": {},
     "outputs": [],
     "prompt_number": 2
    },
    {
     "cell_type": "markdown",
     "metadata": {},
     "source": [
      "# Using the ResultsParser object"
     ]
    },
    {
     "cell_type": "code",
     "collapsed": false,
     "input": [
      "example_files = glob(r\"./scale/weak-small/*.yaml\")"
     ],
     "language": "python",
     "metadata": {},
     "outputs": [],
     "prompt_number": 3
    },
    {
     "cell_type": "code",
     "collapsed": false,
     "input": [
      "# For a simple yaml file pass file name as the only\n",
      "# constructor argument\n",
      "rp = ResultsParser(example_files[0])"
     ],
     "language": "python",
     "metadata": {},
     "outputs": [],
     "prompt_number": 4
    },
    {
     "cell_type": "code",
     "collapsed": false,
     "input": [
      "# Get command line args \n",
      "rp.res_cmd"
     ],
     "language": "python",
     "metadata": {},
     "outputs": [
      {
       "metadata": {},
       "output_type": "pyout",
       "prompt_number": 5,
       "text": [
        "{'doeam': '1',\n",
        " 'initdelta': '0',\n",
        " 'inittemp': '0',\n",
        " 'latticeconstant': '-1',\n",
        " 'nsteps': '100',\n",
        " 'nx': '160',\n",
        " 'ny': '160',\n",
        " 'nz': '160',\n",
        " 'printRate': '10',\n",
        " 'timestep': '1',\n",
        " 'xproc': '8',\n",
        " 'yproc': '8',\n",
        " 'zproc': '8'}"
       ]
      }
     ],
     "prompt_number": 5
    },
    {
     "cell_type": "code",
     "collapsed": false,
     "input": [
      "# Get a list of dicts holding the run results for all runs\n",
      "rp.all_ranks_res[0]"
     ],
     "language": "python",
     "metadata": {},
     "outputs": [
      {
       "metadata": {},
       "output_type": "pyout",
       "prompt_number": 6,
       "text": [
        "{'avgtime': '78.8111',\n",
        " 'function': 'total',\n",
        " 'maxrank': '0',\n",
        " 'maxtime': '78.8138',\n",
        " 'minrank': '431',\n",
        " 'mintime': '78.7718',\n",
        " 'stddevtime': '0.0071'}"
       ]
      }
     ],
     "prompt_number": 6
    },
    {
     "cell_type": "code",
     "collapsed": false,
     "input": [
      "# Get a list of dicts holding the results for rank 0\n",
      "rp.r0_res[0]"
     ],
     "language": "python",
     "metadata": {},
     "outputs": [
      {
       "metadata": {},
       "output_type": "pyout",
       "prompt_number": 7,
       "text": [
        "{'avgpercall': '78.8138',\n",
        " 'callcount': '1',\n",
        " 'function': 'total',\n",
        " 'percentloop': '101.12',\n",
        " 'total': '78.8138'}"
       ]
      }
     ],
     "prompt_number": 7
    },
    {
     "cell_type": "code",
     "collapsed": false,
     "input": [
      "# Get a pandas data frame of the results\n",
      "# (Same for rp.results_r0)\n",
      "df = rp.results_all_ranks()\n",
      "df[df.function==\"total\"][[\"maxtime\",\"atomrate\"]]"
     ],
     "language": "python",
     "metadata": {},
     "outputs": [
      {
       "html": [
        "<div style=\"max-height:1000px;max-width:1500px;overflow:auto;\">\n",
        "<table border=\"1\" class=\"dataframe\">\n",
        "  <thead>\n",
        "    <tr style=\"text-align: right;\">\n",
        "      <th></th>\n",
        "      <th>maxtime</th>\n",
        "      <th>atomrate</th>\n",
        "    </tr>\n",
        "  </thead>\n",
        "  <tbody>\n",
        "    <tr>\n",
        "      <th>0</th>\n",
        "      <td> 78.8138</td>\n",
        "      <td> 21.02</td>\n",
        "    </tr>\n",
        "  </tbody>\n",
        "</table>\n",
        "</div>"
       ],
       "metadata": {},
       "output_type": "pyout",
       "prompt_number": 8,
       "text": [
        "   maxtime  atomrate\n",
        "0  78.8138     21.02"
       ]
      }
     ],
     "prompt_number": 8
    },
    {
     "cell_type": "code",
     "collapsed": false,
     "input": [
      "# Get a dataframe holding results from many files\n",
      "df = results_df(example_files)\n",
      "df = df[df.function==\"total\"].sort(\"totalranks\")\n",
      "df[[\"totalranks\",\"maxtime\",\"atomrate\"]]"
     ],
     "language": "python",
     "metadata": {},
     "outputs": [
      {
       "html": [
        "<div style=\"max-height:1000px;max-width:1500px;overflow:auto;\">\n",
        "<table border=\"1\" class=\"dataframe\">\n",
        "  <thead>\n",
        "    <tr style=\"text-align: right;\">\n",
        "      <th></th>\n",
        "      <th>totalranks</th>\n",
        "      <th>maxtime</th>\n",
        "      <th>atomrate</th>\n",
        "    </tr>\n",
        "  </thead>\n",
        "  <tbody>\n",
        "    <tr>\n",
        "      <th>44</th>\n",
        "      <td>    1</td>\n",
        "      <td> 63.8609</td>\n",
        "      <td>   0.05</td>\n",
        "    </tr>\n",
        "    <tr>\n",
        "      <th>33</th>\n",
        "      <td>    8</td>\n",
        "      <td> 78.0578</td>\n",
        "      <td>   0.33</td>\n",
        "    </tr>\n",
        "    <tr>\n",
        "      <th>11</th>\n",
        "      <td>   64</td>\n",
        "      <td> 78.3742</td>\n",
        "      <td>   2.64</td>\n",
        "    </tr>\n",
        "    <tr>\n",
        "      <th>0 </th>\n",
        "      <td>  512</td>\n",
        "      <td> 78.8138</td>\n",
        "      <td>  21.02</td>\n",
        "    </tr>\n",
        "    <tr>\n",
        "      <th>22</th>\n",
        "      <td> 4096</td>\n",
        "      <td> 80.3786</td>\n",
        "      <td> 167.98</td>\n",
        "    </tr>\n",
        "  </tbody>\n",
        "</table>\n",
        "</div>"
       ],
       "metadata": {},
       "output_type": "pyout",
       "prompt_number": 9,
       "text": [
        "    totalranks  maxtime  atomrate\n",
        "44           1  63.8609      0.05\n",
        "33           8  78.0578      0.33\n",
        "11          64  78.3742      2.64\n",
        "0          512  78.8138     21.02\n",
        "22        4096  80.3786    167.98"
       ]
      }
     ],
     "prompt_number": 9
    },
    {
     "cell_type": "markdown",
     "metadata": {},
     "source": [
      "# Basic Analysis"
     ]
    },
    {
     "cell_type": "code",
     "collapsed": false,
     "input": [
      "results_weak     = glob(r\"./scale/weak-small/*.yaml\")\n",
      "results_weak_600 = glob(r\"./scale/weak-small-600/*.yaml\")\n",
      "results_weak_03k = glob(r\"./scale/weak-small-03k/*.yaml\")\n",
      "\n",
      "df000 = results_df(results_weak)\n",
      "df600 = results_df(results_weak_600)\n",
      "df03k = results_df(results_weak_03k)\n",
      "df000.label = \"T=0\"\n",
      "df600.label = \"T=600\"\n",
      "df03k.label = \"T=3000\"\n",
      "dfs = [df000, df600, df03k]\n",
      "\n",
      "for f in [\"loop\", \"commHalo\", \"force\"]:\n",
      "    plt.figure()\n",
      "    for df in dfs:\n",
      "        r = df[df.function==f].sort(columns=\"totalranks\")\n",
      "        plt.loglog(r.totalranks, r.maxtime, label=df.label)\n",
      "    plt.title(f); plt.legend(loc='lower right')\n",
      "\n",
      "print df000.function.unique()"
     ],
     "language": "python",
     "metadata": {},
     "outputs": [
      {
       "output_type": "stream",
       "stream": "stdout",
       "text": [
        "['total' 'loop' 'timestep' 'position' 'velocity' 'redistribute' 'atomHalo'\n",
        " 'force' 'eamHalo' 'commHalo' 'commReduce']\n"
       ]
      },
      {
       "metadata": {},
       "output_type": "display_data",
       "png": "[encoded data removed]",
       "text": [
        "<matplotlib.figure.Figure at 0x7f57bb4ca490>"
       ]
      },
      {
       "metadata": {},
       "output_type": "display_data",
       "png": "[encoded data removed]",
       "text": [
        "<matplotlib.figure.Figure at 0x7f57b93b3610>"
       ]
      },
      {
       "metadata": {},
       "output_type": "display_data",
       "png": "[encoded data removed]",
       "text": [
        "<matplotlib.figure.Figure at 0x7f57b934c4d0>"
       ]
      }
     ],
     "prompt_number": 10
    },
    {
     "cell_type": "code",
     "collapsed": false,
     "input": [
      "results_strong = glob(r\"./scale/strong-small/*.yaml\")\n",
      "\n",
      "df000 = results_df(results_strong)\n",
      "df000.label = \"T=0\"\n",
      "dfs = [df000]\n",
      "\n",
      "for f in [\"force\", \"commHalo\"]:\n",
      "    #plt.figure()\n",
      "    for df in dfs:\n",
      "        r = df[df.function==f].sort(columns=\"totalranks\")\n",
      "        plt.loglog(r.totalranks, r.maxtime, label=f)\n",
      "    plt.title(f); plt.legend(loc='lower left')\n",
      "\n",
      "print df000.function.unique()"
     ],
     "language": "python",
     "metadata": {},
     "outputs": [
      {
       "output_type": "stream",
       "stream": "stdout",
       "text": [
        "['total' 'loop' 'timestep' 'position' 'velocity' 'redistribute' 'atomHalo'\n",
        " 'force' 'eamHalo' 'commHalo' 'commReduce']\n"
       ]
      },
      {
       "metadata": {},
       "output_type": "display_data",
       "png": "[encoded data removed]",
       "text": [
        "<matplotlib.figure.Figure at 0x7f57b8e448d0>"
       ]
      }
     ],
     "prompt_number": 11
    },
    {
     "cell_type": "code",
     "collapsed": false,
     "input": [],
     "language": "python",
     "metadata": {},
     "outputs": [],
     "prompt_number": 11
    }
   ],
   "metadata": {}
  }
 ]
}
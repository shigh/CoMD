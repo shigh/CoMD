{
 "metadata": {
  "name": "",
  "signature": "sha256:fa1de5d21c8f75a04e645186a7395fb8de3882f4ee77f69d4142d62f3193f043"
 },
 "nbformat": 3,
 "nbformat_minor": 0,
 "worksheets": [
  {
   "cells": [
    {
     "cell_type": "code",
     "collapsed": false,
     "input": [
      "%matplotlib inline"
     ],
     "language": "python",
     "metadata": {},
     "outputs": [],
     "prompt_number": 1
    },
    {
     "cell_type": "code",
     "collapsed": false,
     "input": [
      "import numpy as np\n",
      "import matplotlib.pyplot as plt\n",
      "import pandas as pd\n",
      "import re\n",
      "from rp import ResultsParser\n",
      "from glob import glob"
     ],
     "language": "python",
     "metadata": {},
     "outputs": [],
     "prompt_number": 2
    },
    {
     "cell_type": "code",
     "collapsed": false,
     "input": [
      "result_files = glob(r\"/home/user01/tmp/*.yaml\")\n",
      "res_file = r\"./CoMD-mpi.2015:04:13-09:23:24.yaml\""
     ],
     "language": "python",
     "metadata": {},
     "outputs": [],
     "prompt_number": 3
    },
    {
     "cell_type": "code",
     "collapsed": false,
     "input": [
      "results = [ResultsParser(r) for r in result_files]\n",
      "i = []\n",
      "for rp in results:\n",
      "    i += rp.results_r0()\n",
      "df = pd.DataFrame(i).convert_objects(convert_numeric=True)\n",
      "\n",
      "total = df[df.function==\"total\"].sort(columns=\"totalranks\")\n",
      "plt.loglog(total.totalranks, total.total)"
     ],
     "language": "python",
     "metadata": {},
     "outputs": [
      {
       "metadata": {},
       "output_type": "pyout",
       "prompt_number": 4,
       "text": [
        "[<matplotlib.lines.Line2D at 0x7f771819be50>]"
       ]
      },
      {
       "metadata": {},
       "output_type": "display_data",
       "png": "[encoded data removed]",
       "text": [
        "<matplotlib.figure.Figure at 0x7f77183e8490>"
       ]
      }
     ],
     "prompt_number": 4
    },
    {
     "cell_type": "code",
     "collapsed": false,
     "input": [
      "i = []\n",
      "for rp in results:\n",
      "    i += rp.results_all_ranks()\n",
      "df = pd.DataFrame(i).convert_objects(convert_numeric=True)\n",
      "\n",
      "total = df[df.function==\"total\"].sort(columns=\"totalranks\")\n",
      "plt.loglog(total.totalranks, total.mintime)\n",
      "plt.loglog(total.totalranks, total.maxtime)"
     ],
     "language": "python",
     "metadata": {},
     "outputs": [
      {
       "metadata": {},
       "output_type": "pyout",
       "prompt_number": 5,
       "text": [
        "[<matplotlib.lines.Line2D at 0x7f7759836090>]"
       ]
      },
      {
       "metadata": {},
       "output_type": "display_data",
       "png": "[encoded data removed]",
       "text": [
        "<matplotlib.figure.Figure at 0x7f7716139a50>"
       ]
      }
     ],
     "prompt_number": 5
    },
    {
     "cell_type": "code",
     "collapsed": false,
     "input": [],
     "language": "python",
     "metadata": {},
     "outputs": [],
     "prompt_number": 5
    }
   ],
   "metadata": {}
  }
 ]
}
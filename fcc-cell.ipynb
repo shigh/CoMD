{
 "metadata": {
  "name": "",
  "signature": "sha256:6fc58a7435f364417543936be94df61125f8b33554a2af4d89da87f5387130fd"
 },
 "nbformat": 3,
 "nbformat_minor": 0,
 "worksheets": [
  {
   "cells": [
    {
     "cell_type": "code",
     "collapsed": false,
     "input": [
      "import numpy as np\n",
      "import matplotlib.pyplot as plt\n",
      "from mpl_toolkits.mplot3d import Axes3D"
     ],
     "language": "python",
     "metadata": {},
     "outputs": [],
     "prompt_number": 1
    },
    {
     "cell_type": "code",
     "collapsed": false,
     "input": [
      "fig = plt.figure()\n",
      "ax = fig.add_subplot(111, projection='3d')\n",
      "x0 = np.array([.25,.25,.75,.75])\n",
      "y0 = np.array([.25,.75,.25,.75])\n",
      "z0 = np.array([.25,.75,.75,.25])\n",
      "\n",
      "ax.scatter3D(x0,y0,z0)\n",
      "ax.scatter3D(x0+1,y0,z0, color='r')\n",
      "\n",
      "ax.set_xlim((0,2))\n",
      "ax.set_ylim((0,1))\n",
      "ax.set_zlim((0,1))\n",
      "plt.show()"
     ],
     "language": "python",
     "metadata": {},
     "outputs": [],
     "prompt_number": 2
    },
    {
     "cell_type": "code",
     "collapsed": false,
     "input": [
      "x1 = np.array([.25,.25,.25])\n",
      "x2 = np.array([.25,.75,.75])\n",
      "x3 = np.array([.75,.75,.25])\n",
      "\n",
      "k_max = 10\n",
      "\n",
      "sigma = 2.315\n",
      "lat = 3.615\n",
      "rc = 2.5*sigma/lat\n",
      "\n",
      "count = -1 # remove i=j=k=0 case\n",
      "for i in range(-k_max, k_max+1):\n",
      "    for j in range(-k_max, k_max+1):\n",
      "        for k in range(-k_max, k_max+1):\n",
      "            k_off = np.array([i,j,k])\n",
      "            if np.linalg.norm(k_off)         < rc: \n",
      "                count += 1\n",
      "            if np.linalg.norm(x1-(x2+k_off)) < rc: \n",
      "                count += 1\n",
      "            if np.linalg.norm(x1-(x3+k_off)) < rc: \n",
      "                count += 1\n",
      "            \n",
      "count"
     ],
     "language": "python",
     "metadata": {},
     "outputs": [
      {
       "metadata": {},
       "output_type": "pyout",
       "prompt_number": 3,
       "text": [
        "58"
       ]
      }
     ],
     "prompt_number": 3
    },
    {
     "cell_type": "code",
     "collapsed": false,
     "input": [
      "4.0*4.0*np.pi*rc**3/3.0"
     ],
     "language": "python",
     "metadata": {},
     "outputs": [
      {
       "metadata": {},
       "output_type": "pyout",
       "prompt_number": 4,
       "text": [
        "68.75380021172542"
       ]
      }
     ],
     "prompt_number": 4
    }
   ],
   "metadata": {}
  }
 ]
}
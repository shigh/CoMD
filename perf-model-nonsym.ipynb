{
 "metadata": {
  "name": "",
  "signature": "sha256:063c26993ad3effc31f8f45b8ab3ba11d95f0672628f369588000d0254642c33"
 },
 "nbformat": 3,
 "nbformat_minor": 0,
 "worksheets": [
  {
   "cells": [
    {
     "cell_type": "code",
     "collapsed": false,
     "input": [
      "%matplotlib inline"
     ],
     "language": "python",
     "metadata": {},
     "outputs": [],
     "prompt_number": 1
    },
    {
     "cell_type": "code",
     "collapsed": false,
     "input": [
      "import numpy as np\n",
      "import matplotlib.pyplot as plt"
     ],
     "language": "python",
     "metadata": {},
     "outputs": [],
     "prompt_number": 2
    },
    {
     "cell_type": "code",
     "collapsed": false,
     "input": [
      "def computeIJ(Tfl, Trw):\n",
      "    read = 0.0\n",
      "    write = 0.0\n",
      "    flop = 0.0\n",
      "\n",
      "    # compute tmp: 1 / r^2\n",
      "    # => read position vectors (x, y, z) of atoms i & j\n",
      "    # => 3 subtractions, 3 multiplications, 2 additions, 1 division\n",
      "    read += 6.0 * Trw\n",
      "    flop += 9.0 * Tfl\n",
      "\n",
      "    # compute tmp: (sigma)^6 * (1 / r^2)^3\n",
      "    # => 5 multiplications, 2 multiplications, 1 subtraction [U(Rcutoff)]\n",
      "    flop += 8.0 * Tfl\n",
      "\n",
      "    # compute tmp: potential\n",
      "    # 1 subtraction, 3 multiplications\n",
      "    flop += 3.0 * Tfl\n",
      "\n",
      "    # update potentials\n",
      "    # => read potentials of atoms i & j\n",
      "    # => 1 multiplication and 1 addition for each atom i & j (x2)\n",
      "    # => write potentials of atoms i & j\n",
      "    read += 2.0 * Trw\n",
      "    flop += 2.0 * 2.0 * Tfl\n",
      "    write += 2.0 * Trw\n",
      "\n",
      "    # compute magntitude of force\n",
      "    # 1 subtraction, 5 multiplications\n",
      "    flop += 6.0 * Tfl\n",
      "\n",
      "    # update force vectors\n",
      "    # => read force vectors (fx, fy, fz) of atoms i & j\n",
      "    # => NOT counting read position vectors\n",
      "    # => 1 multiplication and 1 addition for each atom i & j and each vector component (x2, x3)\n",
      "    # => write force vectors (fx, fy, fz) of atoms i & j\n",
      "    read += 6.0 * Trw\n",
      "    flop += 6.0 * 2.0 * Tfl\n",
      "    write += 6.0 * Trw\n",
      "\n",
      "    # contribute to system potential\n",
      "    # one addition, somtimes 1 multplication...\n",
      "    flop += Tfl\n",
      "\n",
      "    return read + flop + write"
     ],
     "language": "python",
     "metadata": {},
     "outputs": [],
     "prompt_number": 3
    },
    {
     "cell_type": "code",
     "collapsed": false,
     "input": [
      "def modelLJ(grid, length):\n",
      "    '''\n",
      "    Parameters\n",
      "    '''\n",
      "    Tfl = 1.0 / (2300 * 1e6)        # BW Users Guide\n",
      "    Trw = 0.011467 * 1e-6           # STREAM\n",
      "\n",
      "    sigma = 2.315\n",
      "    Rcutoff = 2.5 * sigma\n",
      "    \n",
      "    nb = 4                          # number of atoms in basis\n",
      "    nx = grid[0]\n",
      "    ny = grid[1]\n",
      "    nz = grid[2]\n",
      "\n",
      "    minDim = np.array([0.0, 0.0, 0.0])\n",
      "    maxDim = np.array([nx*length, ny*length, nz*length])\n",
      "\n",
      "    nAtoms = nb * nx * ny * nz\n",
      "    nIntIJ = 20                                # number of atoms j interacting with atom i\n",
      "    timeIJ = computeIJ(Tfl, Trw)\n",
      "    runtime = (nAtoms * nIntIJ * timeIJ) / 2.0 # update i and j together (cuts work in half)\n",
      "    return runtime\n",
      "\n",
      "nx = 40\n",
      "ny = 40\n",
      "nz = 40\n",
      "grid = (nx, ny, nz)\n",
      "length = 3.65\n",
      "runtime = modelLJ(grid, length)\n",
      "print \"%i x %i x %i: %1.2f (s)\" % (nx, ny, nz, runtime)"
     ],
     "language": "python",
     "metadata": {},
     "outputs": [
      {
       "output_type": "stream",
       "stream": "stdout",
       "text": [
        "40 x 40 x 40: 0.69 (s)\n"
       ]
      }
     ],
     "prompt_number": 4
    },
    {
     "cell_type": "code",
     "collapsed": false,
     "input": [],
     "language": "python",
     "metadata": {},
     "outputs": [],
     "prompt_number": 4
    }
   ],
   "metadata": {}
  }
 ]
}
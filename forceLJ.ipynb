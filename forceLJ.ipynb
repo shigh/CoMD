{
 "metadata": {
  "name": ""
 },
 "nbformat": 3,
 "nbformat_minor": 0,
 "worksheets": [
  {
   "cells": [
    {
     "cell_type": "code",
     "collapsed": false,
     "input": [
      "import numpy as np\n",
      "\n",
      "from glob import glob\n",
      "from rp import ResultsParser, results_df\n",
      "\n",
      "import matplotlib.pyplot as plt\n",
      "%matplotlib inline"
     ],
     "language": "python",
     "metadata": {},
     "outputs": [],
     "prompt_number": 1
    },
    {
     "cell_type": "code",
     "collapsed": false,
     "input": [
      "# Import files\n",
      "cc_files = glob(r\"./performance/forceLJ/baseline/cc/*.yaml\")\n",
      "gcc_files = glob(r\"./performance/forceLJ/baseline/gcc/*.yaml\")\n",
      "cc_opt_files = glob(r\"./performance/forceLJ/optim/cc/*.yaml\")\n",
      "gcc_opt_files = glob(r\"./performance/forceLJ/optim/gcc/*.yaml\")\n",
      "\n",
      "# Create data frames\n",
      "cc = results_df(cc_files)\n",
      "gcc = results_df(gcc_files)\n",
      "cc_opt = results_df(cc_opt_files)\n",
      "gcc_opt = results_df(gcc_opt_files)"
     ],
     "language": "python",
     "metadata": {},
     "outputs": [],
     "prompt_number": 5
    },
    {
     "cell_type": "code",
     "collapsed": false,
     "input": [
      "# Show data tables\n",
      "nAtoms = np.array(cc[(cc.function=='force')][['totalatoms']]).ravel() \n",
      "\n",
      "nsteps = cc.nsteps.unique()[0]\n",
      "\n",
      "cc_force = np.array(cc[(cc.function=='force')].sort('totalatoms')[['avgtime']]).ravel() / (nsteps + 1.0)\n",
      "gcc_force = np.array(gcc[(gcc.function=='force')].sort('totalatoms')[['avgtime']]).ravel() / (nsteps + 1.0)\n",
      "cc_opt_force = np.array(cc_opt[(cc_opt.function=='force')].sort('totalatoms')[['avgtime']]).ravel() / (nsteps + 1.0)\n",
      "gcc_opt_force = np.array(gcc_opt[(gcc_opt.function=='force')].sort('totalatoms')[['avgtime']]).ravel() / (nsteps + 1.0)"
     ],
     "language": "python",
     "metadata": {},
     "outputs": [],
     "prompt_number": 14
    },
    {
     "cell_type": "code",
     "collapsed": false,
     "input": [
      "def model(N, n, r, w, c):\n",
      "    A = 3*w\n",
      "    B = 3*w+             \\\n",
      "        3*c+3*c+2*c+1*c+ \\\n",
      "        3*c+             \\\n",
      "        2*c+2*c+         \\\n",
      "        3*c+1*c+         \\\n",
      "        3*c+3*c\n",
      "    C = 1*r\n",
      "    D = 3*r\n",
      "    E = 1*c\n",
      "    return N*(A+n*B/2.0)+C+D+E\n",
      "vmodel = np.vectorize(model)\n",
      "\n",
      "tc = 1./(2300.0e6)\n",
      "tr = 8./(5596.4e6)\n",
      "n = 69\n",
      "\n",
      "model_force = model(nAtoms, n, tr, tr, tc)\n",
      "model_force2 = model(nAtoms, 2*n, tr, tr, tc)"
     ],
     "language": "python",
     "metadata": {},
     "outputs": [],
     "prompt_number": 10
    },
    {
     "cell_type": "code",
     "collapsed": false,
     "input": [
      "plt.loglog(nAtoms, model_force, '-r')\n",
      "plt.loglog(nAtoms, model_force2, '-m')\n",
      "plt.loglog(nAtoms, cc_force, '-g')\n",
      "#plt.loglog(nAtoms, cc_opt_force, '-k')\n",
      "plt.loglog(nAtoms, gcc_force, '-b')\n",
      "#plt.loglog(nAtoms, gcc_opt_force, '-k')\n",
      "\n",
      "m_cc, b_cc = np.polyfit(np.log(nAtoms), np.log(cc_force), 1) \n",
      "m_cc_opt, b_cc_opt = np.polyfit(np.log(nAtoms), np.log(cc_opt_force), 1) \n",
      "m_gcc, b_gcc = np.polyfit(np.log(nAtoms), np.log(gcc_force), 1) \n",
      "m_gcc_opt, b_gcc_opt = np.polyfit(np.log(nAtoms), np.log(gcc_opt_force), 1) \n",
      "m_model, b_model = np.polyfit(np.log(nAtoms), np.log(model_force), 1) \n",
      "\n",
      "#print m_cc\n",
      "#print m_gcc\n",
      "#print m_model\n",
      "#print\n",
      "print b_cc\n",
      "print b_cc_opt\n",
      "print b_gcc\n",
      "print b_gcc_opt\n",
      "print b_model"
     ],
     "language": "python",
     "metadata": {},
     "outputs": [
      {
       "output_type": "stream",
       "stream": "stdout",
       "text": [
        "-10.6369625566\n",
        "-10.7080647924\n",
        "-11.9693328631\n",
        "-12.0140269669\n",
        "-14.4275513786\n"
       ]
      },
      {
       "metadata": {},
       "output_type": "display_data",
       "png": "[encoded data removed]",
       "text": [
        "<matplotlib.figure.Figure at 0x10d545ad0>"
       ]
      }
     ],
     "prompt_number": 18
    },
    {
     "cell_type": "code",
     "collapsed": false,
     "input": [
      "\n"
     ],
     "language": "python",
     "metadata": {},
     "outputs": [],
     "prompt_number": 103
    },
    {
     "cell_type": "code",
     "collapsed": false,
     "input": [],
     "language": "python",
     "metadata": {},
     "outputs": []
    }
   ],
   "metadata": {}
  }
 ]
}
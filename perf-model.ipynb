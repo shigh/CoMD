{
 "metadata": {
  "name": "",
  "signature": "sha256:4d369ec37b806954576cf1bdc8101201d939664dff9e1d9fd766b046aea60d3c"
 },
 "nbformat": 3,
 "nbformat_minor": 0,
 "worksheets": [
  {
   "cells": [
    {
     "cell_type": "code",
     "collapsed": false,
     "input": [
      "%matplotlib inline"
     ],
     "language": "python",
     "metadata": {},
     "outputs": [],
     "prompt_number": 1
    },
    {
     "cell_type": "code",
     "collapsed": false,
     "input": [
      "import numpy as np\n",
      "import matplotlib.pyplot as plt\n",
      "import sympy as sym\n",
      "from glob import glob\n",
      "from rp import ResultsParser, results_df\n",
      "from sympy.abc import r, w, c, n, N\n",
      "sym.init_printing()"
     ],
     "language": "python",
     "metadata": {},
     "outputs": [],
     "prompt_number": 2
    },
    {
     "cell_type": "markdown",
     "metadata": {},
     "source": [
      "## LJ Force"
     ]
    },
    {
     "cell_type": "markdown",
     "metadata": {},
     "source": [
      "The equations we are calculating are\n",
      "\\begin{align}\n",
      "  E_{tot} &= \\sum_{ij} U_{LJ}(r_{ij}) \\\\\n",
      "  U_{LJ}(r_{ij}) &= \n",
      "              A\\left(\\frac{1}{r_{ij}}\\right)^{6}\\left\\{ \\left(\\frac{1}{r_{ij}}\\right)^{6} - 1 \\right\\} \\\\ \\\\\n",
      "  \\textbf{F}(r_{ij}) &= - U'_{LJ}(r_{ij})\\hat{r}_{ij}\\\\\n",
      "      &=  24 \\frac{\\epsilon}{r_{ij}} \\left\\{ 2 \\left(\\frac{\\sigma}{r_{ij}}\\right)^{12}\n",
      "              - \\left(\\frac{\\sigma}{r_{ij}}\\right)^6 \\right\\} \\hat{r}_{ij} \\\\\n",
      "              &=  A \\frac{1}{r_{ij}^2} \\left(\\frac{1}{r_{ij}}\\right)^{6} \\left\\{ 2 \\left(\\frac{1}{r_{ij}}\\right)^{6}\n",
      "              - 1 \\right\\} \\textbf{r}_{ij}\n",
      "\\end{align}\n",
      "in a fully periodic domain. Assume that we are calculating $E$, $U$ and $F$. The total number of simulation particles is $N$, and each particle has $n$ neighbors within $r_c=r_{\\text{cutoff}}$.\n",
      "\n",
      "1. Calculate particle $i$ and its interaction with each of its $n$ neighbors $j$. The cost is:\n",
      "    1. 3 loads for particle $i$'s position\n",
      "    2. For each particle $j$ where $r_{ij}<r_c$:\n",
      "        1. $3$ loads for particle $j$'s position\n",
      "        2. 3 subtractions, 3 multiplications, 2 additions and 1 division to calculate $\\frac{1}{r_{ij}^2}$ \n",
      "        3. 3 multiplications to calculate $\\left(\\frac{1}{r_{ij}^2}\\right)^3=\\left(\\frac{1}{r_{ij}}\\right)^6$\n",
      "        5. 2 subtractions and 2 multiplications to calculate $U_{LJ}$ (1 subtraction is for cutoff potential)\n",
      "        6. 3 multiplications and 1 subtraction to calclulate $F(r_{ij})$\n",
      "        7. 3 multiplications and 3 additions to calculate and update $F_{x,y,z}$\n",
      "    3. 1 write to save $U_{LJ}$. (Assume we can save the $U_{LJ}(r_{ji})$ term for free)\n",
      "    4. 3 write to save $F_{x,y,z}$\n",
      "    4. 1 addition to update $E$\n",
      "\n",
      "The total cost for step 1 is $N(A+nB/2)+C+D+E$ where the $1/2$ is to account for double counting"
     ]
    },
    {
     "cell_type": "code",
     "collapsed": false,
     "input": [
      "A = 3*w\n",
      "B = 3*w+        \\\n",
      "    3*c+3*c+2*c+1*c+\\\n",
      "    3*c+    \\\n",
      "    2*c+2*c+        \\\n",
      "    3*c+1*c+\\\n",
      "    3*c+3*c\n",
      "C = 1*r\n",
      "D = 3*r\n",
      "E = 1*c\n",
      "step1 = N*(A+n*B/2)+C+D+E\n",
      "print \"Cost of step 1:\"\n",
      "step1"
     ],
     "language": "python",
     "metadata": {},
     "outputs": [
      {
       "output_type": "stream",
       "stream": "stdout",
       "text": [
        "Cost of step 1:\n"
       ]
      },
      {
       "latex": [
        "$$N \\left(\\frac{n}{2} \\left(26 c + 3 w\\right) + 3 w\\right) + c + 4 r$$"
       ],
       "metadata": {},
       "output_type": "pyout",
       "png": "[encoded data removed]",
       "prompt_number": 3,
       "text": [
        "  \u239bn\u22c5(26\u22c5c + 3\u22c5w)      \u239e          \n",
        "N\u22c5\u239c\u2500\u2500\u2500\u2500\u2500\u2500\u2500\u2500\u2500\u2500\u2500\u2500\u2500\u2500 + 3\u22c5w\u239f + c + 4\u22c5r\n",
        "  \u239d      2             \u23a0          "
       ]
      }
     ],
     "prompt_number": 3
    },
    {
     "cell_type": "markdown",
     "metadata": {},
     "source": [
      "Let reads and writes cost the same:"
     ]
    },
    {
     "cell_type": "code",
     "collapsed": false,
     "input": [
      "cost = step1.subs(w, r); cost"
     ],
     "language": "python",
     "metadata": {},
     "outputs": [
      {
       "latex": [
        "$$N \\left(\\frac{n}{2} \\left(26 c + 3 r\\right) + 3 r\\right) + c + 4 r$$"
       ],
       "metadata": {},
       "output_type": "pyout",
       "png": "[encoded data removed]",
       "prompt_number": 4,
       "text": [
        "  \u239bn\u22c5(26\u22c5c + 3\u22c5r)      \u239e          \n",
        "N\u22c5\u239c\u2500\u2500\u2500\u2500\u2500\u2500\u2500\u2500\u2500\u2500\u2500\u2500\u2500\u2500 + 3\u22c5r\u239f + c + 4\u22c5r\n",
        "  \u239d      2             \u23a0          "
       ]
      }
     ],
     "prompt_number": 4
    },
    {
     "cell_type": "code",
     "collapsed": false,
     "input": [
      "cf = sym.lambdify((N,n,c,r), cost, \"numpy\")"
     ],
     "language": "python",
     "metadata": {},
     "outputs": [],
     "prompt_number": 5
    },
    {
     "cell_type": "code",
     "collapsed": false,
     "input": [
      "cbw = 1./(2300.0e6)\n",
      "rbw = 1./(5596.4e6)"
     ],
     "language": "python",
     "metadata": {},
     "outputs": [],
     "prompt_number": 6
    },
    {
     "cell_type": "code",
     "collapsed": false,
     "input": [
      "N = 160**3\n",
      "n = 20"
     ],
     "language": "python",
     "metadata": {},
     "outputs": [],
     "prompt_number": 7
    },
    {
     "cell_type": "code",
     "collapsed": false,
     "input": [
      "result_files = glob(r\"./scale/weak-T/*.yaml\")\n",
      "res = results_df(result_files)"
     ],
     "language": "python",
     "metadata": {},
     "outputs": [],
     "prompt_number": 8
    },
    {
     "cell_type": "code",
     "collapsed": false,
     "input": [
      "res1 = res[(res.totalranks==1) & (res.inittemp==0)]\n",
      "res1_force = res1[res1.function==\"force\"]\n",
      "res1_force.avgtime/res1_force.nsteps"
     ],
     "language": "python",
     "metadata": {},
     "outputs": [
      {
       "metadata": {},
       "output_type": "pyout",
       "prompt_number": 9,
       "text": [
        "27    0.513488\n",
        "dtype: float64"
       ]
      }
     ],
     "prompt_number": 9
    },
    {
     "cell_type": "code",
     "collapsed": false,
     "input": [
      "cf(N, n, cbw, rbw)"
     ],
     "language": "python",
     "metadata": {},
     "outputs": [
      {
       "latex": [
        "$$0.487178757679$$"
       ],
       "metadata": {},
       "output_type": "pyout",
       "png": "[encoded data removed]",
       "prompt_number": 10,
       "text": [
        "0.487178757679"
       ]
      }
     ],
     "prompt_number": 10
    },
    {
     "cell_type": "code",
     "collapsed": false,
     "input": [
      "resT0 = res[res.inittemp==0]\n",
      "resT0_force = resT0[resT0.function==\"force\"].sort('totalranks')\n",
      "plt.semilogx(resT0_force.totalranks, resT0_force.maxtime/resT0_force.nsteps)"
     ],
     "language": "python",
     "metadata": {},
     "outputs": [
      {
       "metadata": {},
       "output_type": "pyout",
       "prompt_number": 11,
       "text": [
        "[<matplotlib.lines.Line2D at 0x7f698dcfd110>]"
       ]
      },
      {
       "metadata": {},
       "output_type": "display_data",
       "png": "[encoded data removed]",
       "text": [
        "<matplotlib.figure.Figure at 0x7f69756e7a90>"
       ]
      }
     ],
     "prompt_number": 11
    },
    {
     "cell_type": "code",
     "collapsed": false,
     "input": [
      "result_files_sing = glob(r\"./performance/forceLJ/baseline/*.yaml\")\n",
      "res_sing = results_df(result_files_sing)"
     ],
     "language": "python",
     "metadata": {},
     "outputs": [
      {
       "ename": "ValueError",
       "evalue": "Failed to parse ./performance/forceLJ/baseline/CoMD-mpi.2015:04:18-23:12:50.yaml\nSimulation data: \n  Total atoms        : (?P<totalatoms>\\d+)\n\n",
       "output_type": "pyerr",
       "traceback": [
        "\u001b[1;31m---------------------------------------------------------------------------\u001b[0m\n\u001b[1;31mValueError\u001b[0m                                Traceback (most recent call last)",
        "\u001b[1;32m<ipython-input-13-e2ecd0571379>\u001b[0m in \u001b[0;36m<module>\u001b[1;34m()\u001b[0m\n\u001b[0;32m      1\u001b[0m \u001b[0mresult_files_sing\u001b[0m \u001b[1;33m=\u001b[0m \u001b[0mglob\u001b[0m\u001b[1;33m(\u001b[0m\u001b[1;34mr\"./performance/forceLJ/baseline/*.yaml\"\u001b[0m\u001b[1;33m)\u001b[0m\u001b[1;33m\u001b[0m\u001b[0m\n\u001b[1;32m----> 2\u001b[1;33m \u001b[0mres_sing\u001b[0m \u001b[1;33m=\u001b[0m \u001b[0mresults_df\u001b[0m\u001b[1;33m(\u001b[0m\u001b[0mresult_files_sing\u001b[0m\u001b[1;33m)\u001b[0m\u001b[1;33m\u001b[0m\u001b[0m\n\u001b[0m",
        "\u001b[1;32m/home/user01/comd/rp.pyc\u001b[0m in \u001b[0;36mresults_df\u001b[1;34m(file_names)\u001b[0m\n\u001b[0;32m    171\u001b[0m \u001b[1;33m\u001b[0m\u001b[0m\n\u001b[0;32m    172\u001b[0m \u001b[1;32mdef\u001b[0m \u001b[0mresults_df\u001b[0m\u001b[1;33m(\u001b[0m\u001b[0mfile_names\u001b[0m\u001b[1;33m)\u001b[0m\u001b[1;33m:\u001b[0m\u001b[1;33m\u001b[0m\u001b[0m\n\u001b[1;32m--> 173\u001b[1;33m     \u001b[0mresults\u001b[0m \u001b[1;33m=\u001b[0m \u001b[1;33m[\u001b[0m\u001b[0mResultsParser\u001b[0m\u001b[1;33m(\u001b[0m\u001b[0mr\u001b[0m\u001b[1;33m)\u001b[0m \u001b[1;32mfor\u001b[0m \u001b[0mr\u001b[0m \u001b[1;32min\u001b[0m \u001b[0mfile_names\u001b[0m\u001b[1;33m]\u001b[0m\u001b[1;33m\u001b[0m\u001b[0m\n\u001b[0m\u001b[0;32m    174\u001b[0m     \u001b[0mi\u001b[0m \u001b[1;33m=\u001b[0m \u001b[1;33m[\u001b[0m\u001b[1;33m]\u001b[0m\u001b[1;33m\u001b[0m\u001b[0m\n\u001b[0;32m    175\u001b[0m     \u001b[1;32mfor\u001b[0m \u001b[0mrp\u001b[0m \u001b[1;32min\u001b[0m \u001b[0mresults\u001b[0m\u001b[1;33m:\u001b[0m\u001b[1;33m\u001b[0m\u001b[0m\n",
        "\u001b[1;32m/home/user01/comd/rp.pyc\u001b[0m in \u001b[0;36m__init__\u001b[1;34m(self, file_name)\u001b[0m\n\u001b[0;32m     93\u001b[0m             \u001b[0mself\u001b[0m\u001b[1;33m.\u001b[0m\u001b[0mres\u001b[0m \u001b[1;33m=\u001b[0m \u001b[0mf\u001b[0m\u001b[1;33m.\u001b[0m\u001b[0mread\u001b[0m\u001b[1;33m(\u001b[0m\u001b[1;33m)\u001b[0m\u001b[1;33m\u001b[0m\u001b[0m\n\u001b[0;32m     94\u001b[0m         \u001b[0mself\u001b[0m\u001b[1;33m.\u001b[0m\u001b[0mparse_cmd\u001b[0m\u001b[1;33m(\u001b[0m\u001b[1;33m)\u001b[0m\u001b[1;33m\u001b[0m\u001b[0m\n\u001b[1;32m---> 95\u001b[1;33m         \u001b[0mself\u001b[0m\u001b[1;33m.\u001b[0m\u001b[0mparse_sim_data\u001b[0m\u001b[1;33m(\u001b[0m\u001b[1;33m)\u001b[0m\u001b[1;33m\u001b[0m\u001b[0m\n\u001b[0m\u001b[0;32m     96\u001b[0m         \u001b[0mself\u001b[0m\u001b[1;33m.\u001b[0m\u001b[0mparse_r0\u001b[0m\u001b[1;33m(\u001b[0m\u001b[1;33m)\u001b[0m\u001b[1;33m\u001b[0m\u001b[0m\n\u001b[0;32m     97\u001b[0m         \u001b[0mself\u001b[0m\u001b[1;33m.\u001b[0m\u001b[0mparse_all_ranks\u001b[0m\u001b[1;33m(\u001b[0m\u001b[1;33m)\u001b[0m\u001b[1;33m\u001b[0m\u001b[0m\n",
        "\u001b[1;32m/home/user01/comd/rp.pyc\u001b[0m in \u001b[0;36mparse_sim_data\u001b[1;34m(self)\u001b[0m\n\u001b[0;32m    113\u001b[0m             \u001b[1;32mif\u001b[0m \u001b[0mr\u001b[0m\u001b[1;33m==\u001b[0m\u001b[0mNone\u001b[0m\u001b[1;33m:\u001b[0m\u001b[1;33m\u001b[0m\u001b[0m\n\u001b[0;32m    114\u001b[0m                 raise ValueError(\"Failed to parse %s\\n%s\\n\"%\\\n\u001b[1;32m--> 115\u001b[1;33m                                  (self.file_name, p))\n\u001b[0m\u001b[0;32m    116\u001b[0m             \u001b[0mres_sim_data\u001b[0m\u001b[1;33m.\u001b[0m\u001b[0mupdate\u001b[0m\u001b[1;33m(\u001b[0m\u001b[0mclean_dict\u001b[0m\u001b[1;33m(\u001b[0m\u001b[0mr\u001b[0m\u001b[1;33m.\u001b[0m\u001b[0mgroupdict\u001b[0m\u001b[1;33m(\u001b[0m\u001b[1;33m)\u001b[0m\u001b[1;33m)\u001b[0m\u001b[1;33m)\u001b[0m\u001b[1;33m\u001b[0m\u001b[0m\n\u001b[0;32m    117\u001b[0m \u001b[1;33m\u001b[0m\u001b[0m\n",
        "\u001b[1;31mValueError\u001b[0m: Failed to parse ./performance/forceLJ/baseline/CoMD-mpi.2015:04:18-23:12:50.yaml\nSimulation data: \n  Total atoms        : (?P<totalatoms>\\d+)\n\n"
       ]
      }
     ],
     "prompt_number": 13
    }
   ],
   "metadata": {}
  }
 ]
}
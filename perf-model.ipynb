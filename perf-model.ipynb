{
 "metadata": {
  "name": "",
  "signature": "sha256:65bc0ab675c3309be1e526620ab25fd72f8ee134f4a359fb89a4c0e2aaa00df1"
 },
 "nbformat": 3,
 "nbformat_minor": 0,
 "worksheets": [
  {
   "cells": [
    {
     "cell_type": "code",
     "collapsed": false,
     "input": [
      "%matplotlib inline"
     ],
     "language": "python",
     "metadata": {},
     "outputs": [],
     "prompt_number": 1
    },
    {
     "cell_type": "code",
     "collapsed": false,
     "input": [
      "import numpy as np\n",
      "import matplotlib.pyplot as plt\n",
      "import sympy as sym\n",
      "from sympy.abc import r, w, c, n, N\n",
      "sym.init_printing()"
     ],
     "language": "python",
     "metadata": {},
     "outputs": [],
     "prompt_number": 2
    },
    {
     "cell_type": "markdown",
     "metadata": {},
     "source": [
      "## LJ Force"
     ]
    },
    {
     "cell_type": "markdown",
     "metadata": {},
     "source": [
      "The equations we are calculating are\n",
      "\\begin{align}\n",
      "  E_{tot} &= \\sum_{ij} U_{LJ}(r_{ij}) \\\\\n",
      "  U_{LJ}(r_{ij}) &= 4 \\epsilon\n",
      "          \\left\\{ \\left(\\frac{\\sigma}{r_{ij}}\\right)^{12}\n",
      "          - \\left(\\frac{\\sigma}{r_{ij}}\\right)^6 \\right\\} \\\\\n",
      "  F_i &= - \\sum_j U'_{LJ}(r_{ij})\\hat{r}_{ij}\\\\\n",
      "      &= \\sum_j 24 \\frac{\\epsilon}{r_{ij}} \\left\\{ 2 \\left(\\frac{\\sigma}{r_{ij}}\\right)^{12}\n",
      "              - \\left(\\frac{\\sigma}{r_{ij}}\\right)^6 \\right\\} \\hat{r}_{ij}\n",
      "\\end{align}\n",
      "in a fully periodic domain. Assume that we are calculating $E$, $U$ and $F$.\n",
      "\n",
      "1. Calculate particle $i$ and its interaction with each of its $n$ neighbors $j$. The cost is:\n",
      "    1. 3 loads for particle $i$'s position\n",
      "    2. For each particle $j$:\n",
      "        1. $3$ loads for particle $j$'s position\n",
      "        2. 3 subtractions, 3 multiplications and 2 additions to calculate $r_{ij}^2$ \n",
      "        3. 3 multiplications to calculate $\\frac{1}{r_{ij}^6}$\n",
      "        4. 2 multiplications to calculate $\\frac{1}{r_{ij}^{12}}$\n",
      "        5. 2 divisions and 1 subtraction to calculate $U_{LJ}$\n",
      "    3. 1 write to save $U_{LJ}$. (Assume we can save the $U_{LJ}(r_{ji})$ term for free)\n",
      "    4. 1 addition to update $E$\n",
      "\n",
      "The total cost for step 1 is $N(A+nB/2)+D$ where the $1/2$ is to account for double counting"
     ]
    },
    {
     "cell_type": "code",
     "collapsed": false,
     "input": [
      "A = 3*w\n",
      "B = 3*w+        \\\n",
      "    3*c+3*c+2*c+\\\n",
      "    3*c+        \\\n",
      "    2*c+        \\\n",
      "    2*c+1*c\n",
      "D = r\n",
      "step1 = N*(A+n*B/2)+D\n",
      "print \"Cost of step 1:\"\n",
      "step1"
     ],
     "language": "python",
     "metadata": {},
     "outputs": [
      {
       "output_type": "stream",
       "stream": "stdout",
       "text": [
        "Cost of step 1:\n"
       ]
      },
      {
       "latex": [
        "$$N \\left(\\frac{n}{2} \\left(16 c + 3 w\\right) + 3 w\\right) + r$$"
       ],
       "metadata": {},
       "output_type": "pyout",
       "png": "[encoded data removed]",
       "prompt_number": 3,
       "text": [
        "  \u239bn\u22c5(16\u22c5c + 3\u22c5w)      \u239e    \n",
        "N\u22c5\u239c\u2500\u2500\u2500\u2500\u2500\u2500\u2500\u2500\u2500\u2500\u2500\u2500\u2500\u2500 + 3\u22c5w\u239f + r\n",
        "  \u239d      2             \u23a0    "
       ]
      }
     ],
     "prompt_number": 3
    },
    {
     "cell_type": "markdown",
     "metadata": {},
     "source": [
      "Let reads and writes cost the same:"
     ]
    },
    {
     "cell_type": "code",
     "collapsed": false,
     "input": [
      "cost = step1.subs(w, r); cost"
     ],
     "language": "python",
     "metadata": {},
     "outputs": [
      {
       "latex": [
        "$$N \\left(\\frac{n}{2} \\left(16 c + 3 r\\right) + 3 r\\right) + r$$"
       ],
       "metadata": {},
       "output_type": "pyout",
       "png": "[encoded data removed]",
       "prompt_number": 4,
       "text": [
        "  \u239bn\u22c5(16\u22c5c + 3\u22c5r)      \u239e    \n",
        "N\u22c5\u239c\u2500\u2500\u2500\u2500\u2500\u2500\u2500\u2500\u2500\u2500\u2500\u2500\u2500\u2500 + 3\u22c5r\u239f + r\n",
        "  \u239d      2             \u23a0    "
       ]
      }
     ],
     "prompt_number": 4
    },
    {
     "cell_type": "code",
     "collapsed": false,
     "input": [],
     "language": "python",
     "metadata": {},
     "outputs": [],
     "prompt_number": 4
    }
   ],
   "metadata": {}
  }
 ]
}
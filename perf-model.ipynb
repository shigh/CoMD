{
 "metadata": {
  "name": "",
  "signature": "sha256:4a468f29b56847c8ba874b2958880ff07812c43048b4e87ee5b02298ae831015"
 },
 "nbformat": 3,
 "nbformat_minor": 0,
 "worksheets": [
  {
   "cells": [
    {
     "cell_type": "code",
     "collapsed": false,
     "input": [
      "%matplotlib inline"
     ],
     "language": "python",
     "metadata": {},
     "outputs": [],
     "prompt_number": 1
    },
    {
     "cell_type": "code",
     "collapsed": false,
     "input": [
      "import numpy as np\n",
      "import matplotlib.pyplot as plt\n",
      "import sympy as sym\n",
      "from sympy.abc import r, w, c, n\n",
      "sym.init_printing()"
     ],
     "language": "python",
     "metadata": {},
     "outputs": [],
     "prompt_number": 2
    },
    {
     "cell_type": "markdown",
     "metadata": {},
     "source": [
      "## LJ Force"
     ]
    },
    {
     "cell_type": "markdown",
     "metadata": {},
     "source": [
      "The potential we are calculating is\n",
      "\\begin{equation}\n",
      "  E_{tot} = \\sum_{ij} U_{IJ}(r_{ij})\n",
      "\\end{equation}\n",
      "\\begin{equation}\n",
      "  U_{IJ}(r_{ij}) = 4 \\epsilon\n",
      "          \\left\\{ \\left(\\frac{\\sigma}{r_{ij}}\\right)^{12}\n",
      "          - \\left(\\frac{\\sigma}{r_{ij}}\\right)^6 \\right\\}\n",
      "\\end{equation}\n",
      "in a fully periodic domain.\n",
      "\n",
      "1. Calculate particle $i$ and its interaction with each of its $n$ neighbors $j$. The cost is:\n",
      "    1. 3 loads for particle $i$'s position\n",
      "    2. For each particle $j$:\n",
      "        1. $3$ loads for particle $j$'s position\n",
      "        2. 3 subtractions, 3 multiplications and 2 additions to calculate $r_{ij}^2$ \n",
      "        3. 3 multiplications to calculate $\\frac{1}{r_{ij}^6}$\n",
      "        4. 2 multiplications to calculate $\\frac{1}{r_{ij}^{12}}$\n",
      "        5. 2 divisions and 1 subtraction to calculate $U_{IJ}$\n",
      "    3. 1 write to save $U_{IJ}$\n",
      "2. The total cost is $n$ times the first part divided by 2 (to account for double counting)"
     ]
    },
    {
     "cell_type": "code",
     "collapsed": false,
     "input": [
      "step1 = 3*w + \\\n",
      "        n*(   \\\n",
      "           3*w+\n",
      "           3*c+3*c+2*c+\\\n",
      "           3*c+        \\\n",
      "           2*c+        \\\n",
      "           2*c+1*c)+   \\\n",
      "        1*r\n",
      "print \"Cost of step 1:\"\n",
      "step1"
     ],
     "language": "python",
     "metadata": {},
     "outputs": [
      {
       "output_type": "stream",
       "stream": "stdout",
       "text": [
        "Cost of step 1:\n"
       ]
      },
      {
       "latex": [
        "$$n \\left(16 c + 3 w\\right) + r + 3 w$$"
       ],
       "metadata": {},
       "output_type": "pyout",
       "png": "[encoded data removed]",
       "prompt_number": 3,
       "text": [
        "n\u22c5(16\u22c5c + 3\u22c5w) + r + 3\u22c5w"
       ]
      }
     ],
     "prompt_number": 3
    },
    {
     "cell_type": "markdown",
     "metadata": {},
     "source": [
      "The total cost is:"
     ]
    },
    {
     "cell_type": "code",
     "collapsed": false,
     "input": [
      "cost = n*step1/2; cost"
     ],
     "language": "python",
     "metadata": {},
     "outputs": [
      {
       "latex": [
        "$$\\frac{n}{2} \\left(n \\left(16 c + 3 w\\right) + r + 3 w\\right)$$"
       ],
       "metadata": {},
       "output_type": "pyout",
       "png": "[encoded data removed]",
       "prompt_number": 4,
       "text": [
        "n\u22c5(n\u22c5(16\u22c5c + 3\u22c5w) + r + 3\u22c5w)\n",
        "\u2500\u2500\u2500\u2500\u2500\u2500\u2500\u2500\u2500\u2500\u2500\u2500\u2500\u2500\u2500\u2500\u2500\u2500\u2500\u2500\u2500\u2500\u2500\u2500\u2500\u2500\u2500\u2500\n",
        "             2              "
       ]
      }
     ],
     "prompt_number": 4
    },
    {
     "cell_type": "markdown",
     "metadata": {},
     "source": [
      "Let reads and writes cost the same:"
     ]
    },
    {
     "cell_type": "code",
     "collapsed": false,
     "input": [
      "cost = cost.subs(w, r); cost"
     ],
     "language": "python",
     "metadata": {},
     "outputs": [
      {
       "latex": [
        "$$\\frac{n}{2} \\left(n \\left(16 c + 3 r\\right) + 4 r\\right)$$"
       ],
       "metadata": {},
       "output_type": "pyout",
       "png": "[encoded data removed]",
       "prompt_number": 5,
       "text": [
        "n\u22c5(n\u22c5(16\u22c5c + 3\u22c5r) + 4\u22c5r)\n",
        "\u2500\u2500\u2500\u2500\u2500\u2500\u2500\u2500\u2500\u2500\u2500\u2500\u2500\u2500\u2500\u2500\u2500\u2500\u2500\u2500\u2500\u2500\u2500\u2500\n",
        "           2            "
       ]
      }
     ],
     "prompt_number": 5
    },
    {
     "cell_type": "code",
     "collapsed": false,
     "input": [],
     "language": "python",
     "metadata": {},
     "outputs": [],
     "prompt_number": 5
    }
   ],
   "metadata": {}
  }
 ]
}
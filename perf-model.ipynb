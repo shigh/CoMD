{
 "metadata": {
  "name": "",
  "signature": "sha256:a7a781699971f6c7ba6fd3f045081c0f83107be5646e013a7d2d06b8665774e5"
 },
 "nbformat": 3,
 "nbformat_minor": 0,
 "worksheets": [
  {
   "cells": [
    {
     "cell_type": "code",
     "collapsed": false,
     "input": [
      "%matplotlib inline"
     ],
     "language": "python",
     "metadata": {},
     "outputs": [],
     "prompt_number": 1
    },
    {
     "cell_type": "code",
     "collapsed": false,
     "input": [
      "import numpy as np\n",
      "import scipy as sp\n",
      "import matplotlib.pyplot as plt\n",
      "import sympy as sym\n",
      "from glob import glob\n",
      "from rp import ResultsParser, results_df\n",
      "from sympy.abc import r, w, c, n, k, N\n",
      "sym.init_printing()"
     ],
     "language": "python",
     "metadata": {},
     "outputs": [],
     "prompt_number": 2
    },
    {
     "cell_type": "markdown",
     "metadata": {},
     "source": [
      "## LJ Force"
     ]
    },
    {
     "cell_type": "markdown",
     "metadata": {},
     "source": [
      "The equations we are calculating are\n",
      "\\begin{align}\n",
      "  E_{tot} &= \\sum_{ij} U_{LJ}(r_{ij}) \\\\\n",
      "  U_{LJ}(r_{ij}) &= \n",
      "              A\\left(\\frac{1}{r_{ij}}\\right)^{6}\\left\\{ \\left(\\frac{1}{r_{ij}}\\right)^{6} - 1 \\right\\} \\\\ \\\\\n",
      "  \\textbf{F}(r_{ij}) &= - U'_{LJ}(r_{ij})\\hat{r}_{ij}\\\\\n",
      "      &=  24 \\frac{\\epsilon}{r_{ij}} \\left\\{ 2 \\left(\\frac{\\sigma}{r_{ij}}\\right)^{12}\n",
      "              - \\left(\\frac{\\sigma}{r_{ij}}\\right)^6 \\right\\} \\hat{r}_{ij} \\\\\n",
      "              &=  A \\frac{1}{r_{ij}^2} \\left(\\frac{1}{r_{ij}}\\right)^{6} \\left\\{ 2 \\left(\\frac{1}{r_{ij}}\\right)^{6}\n",
      "              - 1 \\right\\} \\textbf{r}_{ij}\n",
      "\\end{align}\n",
      "in a fully periodic domain. Assume that we are calculating $E$, $U$ and $F$. The total number of simulation particles is $N$, and each particle has $n$ neighbors within $r_c=r_{\\text{cutoff}}$.\n",
      "\n",
      "1. Calculate particle $i$ and its interaction with each of its $n$ neighbors $j$. The cost is:\n",
      "    1. 3 loads for particle $i$'s position\n",
      "    2. For each particle $j$ where $r_{ij}<r_c$:\n",
      "        1. $3$ loads for particle $j$'s position\n",
      "        2. 3 subtractions, 3 multiplications, 2 additions and 1 division to calculate $\\frac{1}{r_{ij}^2}$ \n",
      "        3. 3 multiplications to calculate $\\left(\\frac{1}{r_{ij}^2}\\right)^3=\\left(\\frac{1}{r_{ij}}\\right)^6$\n",
      "        5. 2 subtractions and 2 multiplications to calculate $U_{LJ}$ (1 subtraction is for cutoff potential)\n",
      "        6. 3 multiplications and 1 subtraction to calclulate $F(r_{ij})$\n",
      "        7. 3 multiplications and 3 additions to calculate and update $F_{x,y,z}$\n",
      "    3. 1 write to save $U_{LJ}$. (Assume we can save the $U_{LJ}(r_{ji})$ term for free)\n",
      "    4. 3 write to save $F_{x,y,z}$\n",
      "    4. 1 addition to update $E$\n",
      "\n",
      "The total cost for step 1 is $N(A+nB/2)+C+D+E$ where the $1/2$ is to account for double counting"
     ]
    },
    {
     "cell_type": "code",
     "collapsed": false,
     "input": [
      "A = 3*w\n",
      "B = 3*w+             \\\n",
      "    3*c+3*c+2*c+1*c+ \\\n",
      "    3*c+             \\\n",
      "    2*c+2*c+         \\\n",
      "    3*c+1*c+         \\\n",
      "    3*c+3*c\n",
      "C = 1*r\n",
      "D = 3*r\n",
      "E = 1*c\n",
      "# F is for <rc checks that fail\n",
      "F = 3*r+3*c+3*c+2*c # No division\n",
      "step1 = N*(A+n*B/2+k*F/2)+C+D+E\n",
      "print \"Cost of step 1:\"\n",
      "step1"
     ],
     "language": "python",
     "metadata": {},
     "outputs": [
      {
       "output_type": "stream",
       "stream": "stdout",
       "text": [
        "Cost of step 1:\n"
       ]
      },
      {
       "latex": [
        "$$N \\left(\\frac{k}{2} \\left(8 c + 3 r\\right) + \\frac{n}{2} \\left(26 c + 3 w\\right) + 3 w\\right) + c + 4 r$$"
       ],
       "metadata": {},
       "output_type": "pyout",
       "png": "[encoded data removed]",
       "prompt_number": 3,
       "text": [
        "  \u239bk\u22c5(8\u22c5c + 3\u22c5r)   n\u22c5(26\u22c5c + 3\u22c5w)      \u239e          \n",
        "N\u22c5\u239c\u2500\u2500\u2500\u2500\u2500\u2500\u2500\u2500\u2500\u2500\u2500\u2500\u2500 + \u2500\u2500\u2500\u2500\u2500\u2500\u2500\u2500\u2500\u2500\u2500\u2500\u2500\u2500 + 3\u22c5w\u239f + c + 4\u22c5r\n",
        "  \u239d      2               2             \u23a0          "
       ]
      }
     ],
     "prompt_number": 3
    },
    {
     "cell_type": "markdown",
     "metadata": {},
     "source": [
      "Let reads and writes cost the same:"
     ]
    },
    {
     "cell_type": "code",
     "collapsed": false,
     "input": [
      "cost = step1.subs(w, r); cost"
     ],
     "language": "python",
     "metadata": {},
     "outputs": [
      {
       "latex": [
        "$$N \\left(\\frac{k}{2} \\left(8 c + 3 r\\right) + \\frac{n}{2} \\left(26 c + 3 r\\right) + 3 r\\right) + c + 4 r$$"
       ],
       "metadata": {},
       "output_type": "pyout",
       "png": "[encoded data removed]",
       "prompt_number": 4,
       "text": [
        "  \u239bk\u22c5(8\u22c5c + 3\u22c5r)   n\u22c5(26\u22c5c + 3\u22c5r)      \u239e          \n",
        "N\u22c5\u239c\u2500\u2500\u2500\u2500\u2500\u2500\u2500\u2500\u2500\u2500\u2500\u2500\u2500 + \u2500\u2500\u2500\u2500\u2500\u2500\u2500\u2500\u2500\u2500\u2500\u2500\u2500\u2500 + 3\u22c5r\u239f + c + 4\u22c5r\n",
        "  \u239d      2               2             \u23a0          "
       ]
      }
     ],
     "prompt_number": 4
    },
    {
     "cell_type": "code",
     "collapsed": false,
     "input": [
      "cf = sym.lambdify((N,n,c,r,k), cost, \"numpy\")"
     ],
     "language": "python",
     "metadata": {},
     "outputs": [],
     "prompt_number": 5
    },
    {
     "cell_type": "code",
     "collapsed": false,
     "input": [
      "cbw = 1./(2300.0e6)\n",
      "rbw = 8./(5596.4e6)\n",
      "print cbw\n",
      "print rbw"
     ],
     "language": "python",
     "metadata": {},
     "outputs": [
      {
       "output_type": "stream",
       "stream": "stdout",
       "text": [
        "4.34782608696e-10\n",
        "1.42949038668e-09\n"
       ]
      }
     ],
     "prompt_number": 6
    },
    {
     "cell_type": "code",
     "collapsed": false,
     "input": [
      "sigma = 2.316\n",
      "lat   = 3.615\n",
      "rc = 2.5*sigma/lat\n",
      "4*4*np.pi*rc**3/3"
     ],
     "language": "python",
     "metadata": {},
     "outputs": [
      {
       "latex": [
        "$$68.8429365017$$"
       ],
       "metadata": {},
       "output_type": "pyout",
       "png": "[encoded data removed]",
       "prompt_number": 7,
       "text": [
        "68.8429365017"
       ]
      }
     ],
     "prompt_number": 7
    },
    {
     "cell_type": "code",
     "collapsed": false,
     "input": [
      "# The smallest cell size that works is rc,\n",
      "# so the total volume checked is (3rc)**3\n",
      "# k is the number of failed checks per particle\n",
      "4*((3*rc)**3-4*np.pi*rc**3/3)"
     ],
     "language": "python",
     "metadata": {},
     "outputs": [
      {
       "latex": [
        "$$374.903155967$$"
       ],
       "metadata": {},
       "output_type": "pyout",
       "png": "[encoded data removed]",
       "prompt_number": 8,
       "text": [
        "374.903155967"
       ]
      }
     ],
     "prompt_number": 8
    },
    {
     "cell_type": "code",
     "collapsed": false,
     "input": [
      "n = 69\n",
      "k = 375"
     ],
     "language": "python",
     "metadata": {},
     "outputs": [],
     "prompt_number": 9
    },
    {
     "cell_type": "code",
     "collapsed": false,
     "input": [
      "result_files_sing = glob(r\"./performance/forceLJ/baseline/gcc/*.yaml\")\n",
      "res_sing = results_df(result_files_sing)\n",
      "result_files_cc = glob(r\"./performance/forceLJ/baseline/cc/*.yaml\")\n",
      "res_sing_cc = results_df(result_files_cc)\n",
      "result_files_gcc_optim = glob(r\"./performance/forceLJ/optim/gcc/*.yaml\")\n",
      "res_opt_gcc = results_df(result_files_gcc_optim)"
     ],
     "language": "python",
     "metadata": {},
     "outputs": [],
     "prompt_number": 10
    },
    {
     "cell_type": "code",
     "collapsed": false,
     "input": [
      "res_sing_force = res_sing[(res_sing.function==\"force\")&(res_sing.totalatoms<=1e6)].sort('totalatoms')\n",
      "res_cc_force = res_sing_cc[(res_sing_cc.function==\"force\")&(res_sing_cc.totalatoms<=1e6)].sort('totalatoms')\n",
      "res_opt_force = res_opt_gcc[(res_opt_gcc.function==\"force\")&(res_opt_gcc.totalatoms<=1e6)].sort('totalatoms')\n",
      "\n",
      "plt.loglog(res_sing_force.totalatoms, \n",
      "           np.array(cf(res_sing_force.totalatoms, n, cbw, rbw, 0)),\n",
      "           label='n, k=0', linestyle='--')\n",
      "plt.loglog(res_sing_force.totalatoms, \n",
      "           np.array(cf(res_sing_force.totalatoms, n, cbw, rbw, k)),\n",
      "           label='n, k', linestyle='--')\n",
      "plt.loglog(res_sing_force.totalatoms, \n",
      "           np.array(cf(res_sing_force.totalatoms, 2*n, cbw, rbw, 2*k)),\n",
      "           label='2n, 2k', linestyle='--')\n",
      "plt.loglog(res_sing_force.totalatoms, res_sing_force.maxtime/res_sing_force.nsteps,\n",
      "           label='gcc')\n",
      "plt.loglog(res_opt_force.totalatoms, \n",
      "           res_opt_force.maxtime/res_opt_force.nsteps, label='opt gcc')\n",
      "plt.loglog(res_cc_force.totalatoms, \n",
      "           res_cc_force.maxtime/res_cc_force.nsteps, label='cc')\n",
      "\n",
      "\n",
      "plt.legend(loc='upper left')"
     ],
     "language": "python",
     "metadata": {},
     "outputs": [
      {
       "metadata": {},
       "output_type": "pyout",
       "prompt_number": 11,
       "text": [
        "<matplotlib.legend.Legend at 0x7f28b8175610>"
       ]
      },
      {
       "metadata": {},
       "output_type": "display_data",
       "png": "[encoded data removed]",
       "text": [
        "<matplotlib.figure.Figure at 0x7f28c4f434d0>"
       ]
      }
     ],
     "prompt_number": 11
    },
    {
     "cell_type": "code",
     "collapsed": false,
     "input": [],
     "language": "python",
     "metadata": {},
     "outputs": [],
     "prompt_number": 11
    }
   ],
   "metadata": {}
  }
 ]
}
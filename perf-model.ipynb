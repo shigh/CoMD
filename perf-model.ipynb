{
 "metadata": {
  "name": "",
  "signature": "sha256:4794b33ab04976bf7cf598a8027afb49419e4d982d18bd5123885aad185b3d3b"
 },
 "nbformat": 3,
 "nbformat_minor": 0,
 "worksheets": [
  {
   "cells": [
    {
     "cell_type": "code",
     "collapsed": false,
     "input": [
      "%matplotlib inline"
     ],
     "language": "python",
     "metadata": {},
     "outputs": [],
     "prompt_number": 1
    },
    {
     "cell_type": "code",
     "collapsed": false,
     "input": [
      "import numpy as np\n",
      "import scipy as sp\n",
      "import matplotlib.pyplot as plt\n",
      "import sympy as sym\n",
      "from glob import glob\n",
      "from rp import ResultsParser, results_df\n",
      "from sympy.abc import r, w, c, n, N\n",
      "sym.init_printing()"
     ],
     "language": "python",
     "metadata": {},
     "outputs": [],
     "prompt_number": 2
    },
    {
     "cell_type": "markdown",
     "metadata": {},
     "source": [
      "## LJ Force"
     ]
    },
    {
     "cell_type": "markdown",
     "metadata": {},
     "source": [
      "The equations we are calculating are\n",
      "\\begin{align}\n",
      "  E_{tot} &= \\sum_{ij} U_{LJ}(r_{ij}) \\\\\n",
      "  U_{LJ}(r_{ij}) &= \n",
      "              A\\left(\\frac{1}{r_{ij}}\\right)^{6}\\left\\{ \\left(\\frac{1}{r_{ij}}\\right)^{6} - 1 \\right\\} \\\\ \\\\\n",
      "  \\textbf{F}(r_{ij}) &= - U'_{LJ}(r_{ij})\\hat{r}_{ij}\\\\\n",
      "      &=  24 \\frac{\\epsilon}{r_{ij}} \\left\\{ 2 \\left(\\frac{\\sigma}{r_{ij}}\\right)^{12}\n",
      "              - \\left(\\frac{\\sigma}{r_{ij}}\\right)^6 \\right\\} \\hat{r}_{ij} \\\\\n",
      "              &=  A \\frac{1}{r_{ij}^2} \\left(\\frac{1}{r_{ij}}\\right)^{6} \\left\\{ 2 \\left(\\frac{1}{r_{ij}}\\right)^{6}\n",
      "              - 1 \\right\\} \\textbf{r}_{ij}\n",
      "\\end{align}\n",
      "in a fully periodic domain. Assume that we are calculating $E$, $U$ and $F$. The total number of simulation particles is $N$, and each particle has $n$ neighbors within $r_c=r_{\\text{cutoff}}$.\n",
      "\n",
      "1. Calculate particle $i$ and its interaction with each of its $n$ neighbors $j$. The cost is:\n",
      "    1. 3 loads for particle $i$'s position\n",
      "    2. For each particle $j$ where $r_{ij}<r_c$:\n",
      "        1. $3$ loads for particle $j$'s position\n",
      "        2. 3 subtractions, 3 multiplications, 2 additions and 1 division to calculate $\\frac{1}{r_{ij}^2}$ \n",
      "        3. 3 multiplications to calculate $\\left(\\frac{1}{r_{ij}^2}\\right)^3=\\left(\\frac{1}{r_{ij}}\\right)^6$\n",
      "        5. 2 subtractions and 2 multiplications to calculate $U_{LJ}$ (1 subtraction is for cutoff potential)\n",
      "        6. 3 multiplications and 1 subtraction to calclulate $F(r_{ij})$\n",
      "        7. 3 multiplications and 3 additions to calculate and update $F_{x,y,z}$\n",
      "    3. 1 write to save $U_{LJ}$. (Assume we can save the $U_{LJ}(r_{ji})$ term for free)\n",
      "    4. 3 write to save $F_{x,y,z}$\n",
      "    4. 1 addition to update $E$\n",
      "\n",
      "The total cost for step 1 is $N(A+nB/2)+C+D+E$ where the $1/2$ is to account for double counting"
     ]
    },
    {
     "cell_type": "code",
     "collapsed": false,
     "input": [
      "A = 3*w\n",
      "B = 3*w+             \\\n",
      "    3*c+3*c+2*c+1*c+ \\\n",
      "    3*c+             \\\n",
      "    2*c+2*c+         \\\n",
      "    3*c+1*c+         \\\n",
      "    3*c+3*c\n",
      "C = 1*r\n",
      "D = 3*r\n",
      "E = 1*c\n",
      "step1 = N*(A+n*B/2)+C+D+E\n",
      "print \"Cost of step 1:\"\n",
      "step1"
     ],
     "language": "python",
     "metadata": {},
     "outputs": [
      {
       "output_type": "stream",
       "stream": "stdout",
       "text": [
        "Cost of step 1:\n"
       ]
      },
      {
       "latex": [
        "$$N \\left(\\frac{n}{2} \\left(26 c + 3 w\\right) + 3 w\\right) + c + 4 r$$"
       ],
       "metadata": {},
       "output_type": "pyout",
       "png": "[encoded data removed]",
       "prompt_number": 3,
       "text": [
        "  \u239bn\u22c5(26\u22c5c + 3\u22c5w)      \u239e          \n",
        "N\u22c5\u239c\u2500\u2500\u2500\u2500\u2500\u2500\u2500\u2500\u2500\u2500\u2500\u2500\u2500\u2500 + 3\u22c5w\u239f + c + 4\u22c5r\n",
        "  \u239d      2             \u23a0          "
       ]
      }
     ],
     "prompt_number": 3
    },
    {
     "cell_type": "markdown",
     "metadata": {},
     "source": [
      "Let reads and writes cost the same:"
     ]
    },
    {
     "cell_type": "code",
     "collapsed": false,
     "input": [
      "cost = step1.subs(w, r); cost"
     ],
     "language": "python",
     "metadata": {},
     "outputs": [
      {
       "latex": [
        "$$N \\left(\\frac{n}{2} \\left(26 c + 3 r\\right) + 3 r\\right) + c + 4 r$$"
       ],
       "metadata": {},
       "output_type": "pyout",
       "png": "[encoded data removed]",
       "prompt_number": 4,
       "text": [
        "  \u239bn\u22c5(26\u22c5c + 3\u22c5r)      \u239e          \n",
        "N\u22c5\u239c\u2500\u2500\u2500\u2500\u2500\u2500\u2500\u2500\u2500\u2500\u2500\u2500\u2500\u2500 + 3\u22c5r\u239f + c + 4\u22c5r\n",
        "  \u239d      2             \u23a0          "
       ]
      }
     ],
     "prompt_number": 4
    },
    {
     "cell_type": "code",
     "collapsed": false,
     "input": [
      "cf = sym.lambdify((N,n,c,r), cost, \"numpy\")"
     ],
     "language": "python",
     "metadata": {},
     "outputs": [],
     "prompt_number": 5
    },
    {
     "cell_type": "code",
     "collapsed": false,
     "input": [
      "cbw = 1./(2300.0e6)\n",
      "rbw = 8./(5596.4e6)"
     ],
     "language": "python",
     "metadata": {},
     "outputs": [],
     "prompt_number": 6
    },
    {
     "cell_type": "code",
     "collapsed": false,
     "input": [
      "n = 69*2"
     ],
     "language": "python",
     "metadata": {},
     "outputs": [],
     "prompt_number": 7
    },
    {
     "cell_type": "code",
     "collapsed": false,
     "input": [
      "result_files = glob(r\"./scale/weak-T/*.yaml\")\n",
      "res = results_df(result_files)"
     ],
     "language": "python",
     "metadata": {},
     "outputs": [],
     "prompt_number": 8
    },
    {
     "cell_type": "code",
     "collapsed": false,
     "input": [
      "res1 = res[(res.totalranks==1) & (res.inittemp==0)]\n",
      "res1_force = res1[res1.function==\"force\"]\n",
      "res1_force.maxtime/res1_force.nsteps"
     ],
     "language": "python",
     "metadata": {},
     "outputs": [
      {
       "metadata": {},
       "output_type": "pyout",
       "prompt_number": 9,
       "text": [
        "27    0.513488\n",
        "dtype: float64"
       ]
      }
     ],
     "prompt_number": 9
    },
    {
     "cell_type": "code",
     "collapsed": false,
     "input": [
      "cf(res1.totalatoms.iloc[0], n, cbw, rbw)"
     ],
     "language": "python",
     "metadata": {},
     "outputs": [
      {
       "latex": [
        "$$0.0345661815512$$"
       ],
       "metadata": {},
       "output_type": "pyout",
       "png": "[encoded data removed]",
       "prompt_number": 10,
       "text": [
        "0.0345661815512"
       ]
      }
     ],
     "prompt_number": 10
    },
    {
     "cell_type": "code",
     "collapsed": false,
     "input": [
      "resT0 = res[res.inittemp==0]\n",
      "resT0_force = resT0[resT0.function==\"force\"].sort('totalranks')\n",
      "plt.semilogx(resT0_force.totalranks, resT0_force.maxtime/resT0_force.nsteps)"
     ],
     "language": "python",
     "metadata": {},
     "outputs": [
      {
       "metadata": {},
       "output_type": "pyout",
       "prompt_number": 11,
       "text": [
        "[<matplotlib.lines.Line2D at 0x7f5d286a0d50>]"
       ]
      },
      {
       "metadata": {},
       "output_type": "display_data",
       "png": "[encoded data removed]",
       "text": [
        "<matplotlib.figure.Figure at 0x7f5d286c6990>"
       ]
      }
     ],
     "prompt_number": 11
    },
    {
     "cell_type": "code",
     "collapsed": false,
     "input": [
      "result_files_sing = glob(r\"./performance/forceLJ/baseline/old-yamls/*.yaml\")\n",
      "res_sing = results_df(result_files_sing)"
     ],
     "language": "python",
     "metadata": {},
     "outputs": [],
     "prompt_number": 12
    },
    {
     "cell_type": "code",
     "collapsed": false,
     "input": [
      "res_sing.totalatoms.unique()"
     ],
     "language": "python",
     "metadata": {},
     "outputs": [
      {
       "metadata": {},
       "output_type": "pyout",
       "prompt_number": 13,
       "text": [
        "array([    4000,  2916000, 62500000,   108000,  4000000,   864000,\n",
        "        2048000,   256000,  1372000,    32000,   500000])"
       ]
      }
     ],
     "prompt_number": 13
    },
    {
     "cell_type": "code",
     "collapsed": false,
     "input": [
      "res_sing[(res_sing.function=='force')][['totalatoms','avgtime']].sort('totalatoms')"
     ],
     "language": "python",
     "metadata": {},
     "outputs": [
      {
       "html": [
        "<div style=\"max-height:1000px;max-width:1500px;overflow:auto;\">\n",
        "<table border=\"1\" class=\"dataframe\">\n",
        "  <thead>\n",
        "    <tr style=\"text-align: right;\">\n",
        "      <th></th>\n",
        "      <th>totalatoms</th>\n",
        "      <th>avgtime</th>\n",
        "    </tr>\n",
        "  </thead>\n",
        "  <tbody>\n",
        "    <tr>\n",
        "      <th>7  </th>\n",
        "      <td>     4000</td>\n",
        "      <td>    1.4366</td>\n",
        "    </tr>\n",
        "    <tr>\n",
        "      <th>107</th>\n",
        "      <td>    32000</td>\n",
        "      <td>   10.7214</td>\n",
        "    </tr>\n",
        "    <tr>\n",
        "      <th>37 </th>\n",
        "      <td>   108000</td>\n",
        "      <td>   35.3614</td>\n",
        "    </tr>\n",
        "    <tr>\n",
        "      <th>87 </th>\n",
        "      <td>   256000</td>\n",
        "      <td>   82.8871</td>\n",
        "    </tr>\n",
        "    <tr>\n",
        "      <th>117</th>\n",
        "      <td>   500000</td>\n",
        "      <td>  150.6981</td>\n",
        "    </tr>\n",
        "    <tr>\n",
        "      <th>57 </th>\n",
        "      <td>   864000</td>\n",
        "      <td>  261.7222</td>\n",
        "    </tr>\n",
        "    <tr>\n",
        "      <th>97 </th>\n",
        "      <td>  1372000</td>\n",
        "      <td>  417.4034</td>\n",
        "    </tr>\n",
        "    <tr>\n",
        "      <th>67 </th>\n",
        "      <td>  2048000</td>\n",
        "      <td>  628.1227</td>\n",
        "    </tr>\n",
        "    <tr>\n",
        "      <th>17 </th>\n",
        "      <td>  2916000</td>\n",
        "      <td>  861.8227</td>\n",
        "    </tr>\n",
        "    <tr>\n",
        "      <th>47 </th>\n",
        "      <td>  4000000</td>\n",
        "      <td>  238.7673</td>\n",
        "    </tr>\n",
        "    <tr>\n",
        "      <th>77 </th>\n",
        "      <td>  4000000</td>\n",
        "      <td>  339.2245</td>\n",
        "    </tr>\n",
        "    <tr>\n",
        "      <th>27 </th>\n",
        "      <td> 62500000</td>\n",
        "      <td> 3467.2870</td>\n",
        "    </tr>\n",
        "  </tbody>\n",
        "</table>\n",
        "</div>"
       ],
       "metadata": {},
       "output_type": "pyout",
       "prompt_number": 14,
       "text": [
        "     totalatoms    avgtime\n",
        "7          4000     1.4366\n",
        "107       32000    10.7214\n",
        "37       108000    35.3614\n",
        "87       256000    82.8871\n",
        "117      500000   150.6981\n",
        "57       864000   261.7222\n",
        "97      1372000   417.4034\n",
        "67      2048000   628.1227\n",
        "17      2916000   861.8227\n",
        "47      4000000   238.7673\n",
        "77      4000000   339.2245\n",
        "27     62500000  3467.2870"
       ]
      }
     ],
     "prompt_number": 14
    },
    {
     "cell_type": "code",
     "collapsed": false,
     "input": [
      "res_sing_force = res_sing[(res_sing.function==\"force\")&(res_sing.totalatoms<=1e6)].sort('totalatoms')\n",
      "plt.loglog(res_sing_force.totalatoms, res_sing_force.maxtime/res_sing_force.nsteps)\n",
      "plt.loglog(res_sing_force.totalatoms, \n",
      "           np.array(cf(res_sing_force.totalatoms, n, cbw, rbw)))\n",
      "\n",
      "cfsing = np.array(cf(res_sing_force.totalatoms, n, cbw, rbw))\n",
      "ta = np.array(res_sing_force.totalatoms)\n",
      "mt = np.array(res_sing_force.maxtime/res_sing_force.nsteps)\n",
      "print np.log(cfsing[-1]-cfsing[-2])/np.log(ta[-1]-ta[-2])\n",
      "print np.log(mt[-1]-mt[-2])/np.log(ta[-1]-ta[-2])"
     ],
     "language": "python",
     "metadata": {},
     "outputs": [
      {
       "output_type": "stream",
       "stream": "stdout",
       "text": [
        "-0.072898736663\n",
        "0.133856086106\n"
       ]
      },
      {
       "metadata": {},
       "output_type": "display_data",
       "png": "[encoded data removed]",
       "text": [
        "<matplotlib.figure.Figure at 0x7f5d2863fe50>"
       ]
      }
     ],
     "prompt_number": 15
    },
    {
     "cell_type": "code",
     "collapsed": false,
     "input": [
      "m,b = np.polyfit(np.log(ta), np.log(mt), 1) \n",
      "m, b"
     ],
     "language": "python",
     "metadata": {},
     "outputs": [
      {
       "latex": [
        "$$\\left ( 0.968040129138, \\quad -10.6591641948\\right )$$"
       ],
       "metadata": {},
       "output_type": "pyout",
       "png": "[encoded data removed]",
       "prompt_number": 16,
       "text": [
        "(0.968040129138, -10.6591641948)"
       ]
      }
     ],
     "prompt_number": 16
    },
    {
     "cell_type": "code",
     "collapsed": false,
     "input": [
      "m,b = np.polyfit(np.log(ta), np.log(cfsing), 1) \n",
      "m, b"
     ],
     "language": "python",
     "metadata": {},
     "outputs": [
      {
       "latex": [
        "$$\\left ( 0.999999754604, \\quad -13.7383677214\\right )$$"
       ],
       "metadata": {},
       "output_type": "pyout",
       "png": "[encoded data removed]",
       "prompt_number": 17,
       "text": [
        "(0.999999754604, -13.7383677214)"
       ]
      }
     ],
     "prompt_number": 17
    },
    {
     "cell_type": "code",
     "collapsed": false,
     "input": [
      "res_sing_force = res_sing[res_sing.function==\"force\"].sort('totalatoms')\n",
      "plt.loglog(res_sing_force.totalatoms, res_sing_force.maxtime/res_sing_force.nsteps)\n",
      "plt.loglog(res_sing_force.totalatoms, \n",
      "         cf(res_sing_force.totalatoms, n, cbw, rbw))"
     ],
     "language": "python",
     "metadata": {},
     "outputs": [
      {
       "metadata": {},
       "output_type": "pyout",
       "prompt_number": 18,
       "text": [
        "[<matplotlib.lines.Line2D at 0x7f5d285e8610>]"
       ]
      },
      {
       "metadata": {},
       "output_type": "display_data",
       "png": "[encoded data removed]",
       "text": [
        "<matplotlib.figure.Figure at 0x7f5d273e7f50>"
       ]
      }
     ],
     "prompt_number": 18
    },
    {
     "cell_type": "code",
     "collapsed": false,
     "input": [],
     "language": "python",
     "metadata": {},
     "outputs": [],
     "prompt_number": 18
    }
   ],
   "metadata": {}
  }
 ]
}
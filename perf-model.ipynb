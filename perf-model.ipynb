{
 "metadata": {
  "name": "",
  "signature": "sha256:76e50ceb1dcf99e090fc85962ccc9d6ced096bd0774a8e69dd58743551cf8dec"
 },
 "nbformat": 3,
 "nbformat_minor": 0,
 "worksheets": [
  {
   "cells": [
    {
     "cell_type": "code",
     "collapsed": false,
     "input": [
      "%matplotlib inline"
     ],
     "language": "python",
     "metadata": {},
     "outputs": [],
     "prompt_number": 1
    },
    {
     "cell_type": "code",
     "collapsed": false,
     "input": [
      "import numpy as np\n",
      "import matplotlib.pyplot as plt\n",
      "import sympy as sym\n",
      "from sympy.abc import r, w, c, n, N\n",
      "sym.init_printing()"
     ],
     "language": "python",
     "metadata": {},
     "outputs": [],
     "prompt_number": 2
    },
    {
     "cell_type": "markdown",
     "metadata": {},
     "source": [
      "## LJ Force"
     ]
    },
    {
     "cell_type": "markdown",
     "metadata": {},
     "source": [
      "The equations we are calculating are\n",
      "\\begin{align}\n",
      "  E_{tot} &= \\sum_{ij} U_{LJ}(r_{ij}) \\\\\n",
      "  U_{LJ}(r_{ij}) &= 4 \\epsilon\n",
      "          \\left\\{ \\left(\\frac{\\sigma}{r_{ij}}\\right)^{12}\n",
      "          - \\left(\\frac{\\sigma}{r_{ij}}\\right)^6 \\right\\} \\\\\n",
      "  F_i &= - \\sum_j U'_{LJ}(r_{ij})\\hat{r}_{ij}\\\\\n",
      "      &= \\sum_j 24 \\frac{\\epsilon}{r_{ij}} \\left\\{ 2 \\left(\\frac{\\sigma}{r_{ij}}\\right)^{12}\n",
      "              - \\left(\\frac{\\sigma}{r_{ij}}\\right)^6 \\right\\} \\hat{r}_{ij}\n",
      "\\end{align}\n",
      "in a fully periodic domain. Assume that we are calculating $E$, $U$ and $F$. The total number of simulation particles is $N$, and each particle has $n$ neighbors within $r_c=r_{\\text{cutoff}}$.\n",
      "\n",
      "1. Calculate particle $i$ and its interaction with each of its $n$ neighbors $j$. The cost is:\n",
      "    1. 3 loads for particle $i$'s position\n",
      "    2. For each particle $j$ where $r_{ij}<r_c$:\n",
      "        1. $3$ loads for particle $j$'s position\n",
      "        2. 3 subtractions, 3 multiplications and 2 additions to calculate $r_{ij}^2$ \n",
      "        3. 3 multiplications, 1 division to calculate $\\frac{\\sigma}{r_{ij}}^6$\n",
      "        4. 1 multiplications to calculate $\\frac{\\sigma}{r_{ij}}^{12}$\n",
      "        5. 1 subtraction and 1 multiplication to calculate $U_{LJ}$ (Erin: also 2 multiplications? Scott: I was thinking that you precompute $4\\epsilon\\sigma^k$, but that does not make numerical sense. Subtract then multiply.)\n",
      "        6. *Add force calc*\n",
      "    3. 1 write to save $U_{LJ}$. (Assume we can save the $U_{LJ}(r_{ji})$ term for free)\n",
      "    4. 1 addition to update $E$\n",
      "\n",
      "The total cost for step 1 is $N(A+nB/2)+D$ where the $1/2$ is to account for double counting"
     ]
    },
    {
     "cell_type": "code",
     "collapsed": false,
     "input": [
      "A = 3*w\n",
      "B = 3*w+        \\\n",
      "    3*c+3*c+2*c+\\\n",
      "    3*c+1*c+    \\\n",
      "    1*c+        \\\n",
      "    1*c+1*c\n",
      "D = r\n",
      "step1 = N*(A+n*B/2)+D\n",
      "print \"Cost of step 1:\"\n",
      "step1"
     ],
     "language": "python",
     "metadata": {},
     "outputs": [
      {
       "output_type": "stream",
       "stream": "stdout",
       "text": [
        "Cost of step 1:\n"
       ]
      },
      {
       "latex": [
        "$$N \\left(\\frac{n}{2} \\left(15 c + 3 w\\right) + 3 w\\right) + r$$"
       ],
       "metadata": {},
       "output_type": "pyout",
       "png": "[encoded data removed]",
       "prompt_number": 3,
       "text": [
        "  \u239bn\u22c5(15\u22c5c + 3\u22c5w)      \u239e    \n",
        "N\u22c5\u239c\u2500\u2500\u2500\u2500\u2500\u2500\u2500\u2500\u2500\u2500\u2500\u2500\u2500\u2500 + 3\u22c5w\u239f + r\n",
        "  \u239d      2             \u23a0    "
       ]
      }
     ],
     "prompt_number": 3
    },
    {
     "cell_type": "markdown",
     "metadata": {},
     "source": [
      "Let reads and writes cost the same:"
     ]
    },
    {
     "cell_type": "code",
     "collapsed": false,
     "input": [
      "cost = step1.subs(w, r); cost"
     ],
     "language": "python",
     "metadata": {},
     "outputs": [
      {
       "latex": [
        "$$N \\left(\\frac{n}{2} \\left(15 c + 3 r\\right) + 3 r\\right) + r$$"
       ],
       "metadata": {},
       "output_type": "pyout",
       "png": "[encoded data removed]",
       "prompt_number": 4,
       "text": [
        "  \u239bn\u22c5(15\u22c5c + 3\u22c5r)      \u239e    \n",
        "N\u22c5\u239c\u2500\u2500\u2500\u2500\u2500\u2500\u2500\u2500\u2500\u2500\u2500\u2500\u2500\u2500 + 3\u22c5r\u239f + r\n",
        "  \u239d      2             \u23a0    "
       ]
      }
     ],
     "prompt_number": 4
    },
    {
     "cell_type": "code",
     "collapsed": false,
     "input": [
      "def computeIJ(Tfl, Trw):\n",
      "    read = 0.0\n",
      "    write = 0.0\n",
      "    flop = 0.0\n",
      "\n",
      "    # compute tmp: 1 / r^2\n",
      "    # => read position vectors (x, y, z) of atoms i & j\n",
      "    # => 3 subtractions, 3 multiplications, 2 additions, 1 division\n",
      "    read += 6.0 * Trw\n",
      "    flop += 9.0 * Tfl\n",
      "\n",
      "    # compute tmp: (sigma)^6 * (1 / r^2)^3\n",
      "    # => 5 multiplications, 2 multiplications, 1 subtraction [U(Rcutoff)]\n",
      "    flop += 8.0 * Tfl\n",
      "\n",
      "    # compute tmp: potential\n",
      "    # 1 subtraction, 3 multiplications\n",
      "    flop += 3.0 * Tfl\n",
      "\n",
      "    # update potentials\n",
      "    # => read potentials of atoms i & j\n",
      "    # => 1 multiplication and 1 addition for each atom i & j (x2)\n",
      "    # => write potentials of atoms i & j\n",
      "    read += 2.0 * Trw\n",
      "    flop += 2.0 * 2.0 * Tfl\n",
      "    write += 2.0 * Trw\n",
      "\n",
      "    # compute magntitude of force\n",
      "    # 1 subtraction, 5 multiplications\n",
      "    flop += 6.0 * Tfl\n",
      "\n",
      "    # update force vectors\n",
      "    # => read force vectors (fx, fy, fz) of atoms i & j\n",
      "    # => NOT counting read position vectors\n",
      "    # => 1 multiplication and 1 addition for each atom i & j and each vector component (x2, x3)\n",
      "    # => write force vectors (fx, fy, fz) of atoms i & j\n",
      "    read += 6.0 * Trw\n",
      "    flop += 6.0 * 2.0 * Tfl\n",
      "    write += 6.0 * Trw\n",
      "\n",
      "    # contribute to system potential\n",
      "    # one addition, somtimes 1 multplication...\n",
      "    flop += Tfl\n",
      "\n",
      "    return read + flop + write"
     ],
     "language": "python",
     "metadata": {},
     "outputs": [],
     "prompt_number": 5
    },
    {
     "cell_type": "code",
     "collapsed": false,
     "input": [
      "def modelLJ(grid, length):\n",
      "    '''\n",
      "    Parameters\n",
      "    '''\n",
      "    Tfl = 1.0 / (2300 * 1e6)        # BW Users Guide\n",
      "    Trw = 0.011467 * 1e-6           # STREAM\n",
      "\n",
      "    sigma = 2.315\n",
      "    Rcutoff = 2.5 * sigma\n",
      "    \n",
      "    nb = 4                          # number of atoms in basis\n",
      "    nx = grid[0]\n",
      "    ny = grid[1]\n",
      "    nz = grid[2]\n",
      "\n",
      "    minDim = np.array([0.0, 0.0, 0.0])\n",
      "    maxDim = np.array([nx*length, ny*length, nz*length])\n",
      "\n",
      "    nAtoms = nb * nx * ny * nz\n",
      "    nIntIJ = 20                                # number of atoms j interacting with atom i\n",
      "    timeIJ = computeIJ(Tfl, Trw)\n",
      "    runtime = (nAtoms * nIntIJ * timeIJ) / 2.0 # update i and j together (cuts work in half)\n",
      "    return runtime\n",
      "\n",
      "nx = 40\n",
      "ny = 40\n",
      "nz = 40\n",
      "grid = (nx, ny, nz)\n",
      "length = 3.65\n",
      "runtime = modelLJ(grid, length)\n",
      "print \"%i x %i x %i: %1.2f (s)\" % (nx, ny, nz, runtime)"
     ],
     "language": "python",
     "metadata": {},
     "outputs": [
      {
       "output_type": "stream",
       "stream": "stdout",
       "text": [
        "40 x 40 x 40: 0.69 (s)\n"
       ]
      }
     ],
     "prompt_number": 6
    },
    {
     "cell_type": "code",
     "collapsed": false,
     "input": [],
     "language": "python",
     "metadata": {},
     "outputs": [],
     "prompt_number": 6
    }
   ],
   "metadata": {}
  }
 ]
}